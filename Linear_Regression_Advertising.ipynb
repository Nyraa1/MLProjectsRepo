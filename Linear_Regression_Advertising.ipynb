{
  "cells": [
    {
      "cell_type": "markdown",
      "metadata": {
        "id": "view-in-github",
        "colab_type": "text"
      },
      "source": [
        "<a href=\"https://colab.research.google.com/github/Nyraa1/MLProjectsRepo/blob/master/Linear_Regression_Advertising.ipynb\" target=\"_parent\"><img src=\"https://colab.research.google.com/assets/colab-badge.svg\" alt=\"Open In Colab\"/></a>"
      ]
    },
    {
      "cell_type": "code",
      "execution_count": null,
      "id": "14013e6c",
      "metadata": {
        "id": "14013e6c"
      },
      "outputs": [],
      "source": [
        "import pandas as pd\n",
        "import numpy as np\n",
        "import seaborn as sns\n",
        "import matplotlib.pyplot as plt\n",
        "\n",
        "import statsmodels.api as sm\n",
        "import warnings\n",
        "warnings.filterwarnings('ignore')"
      ]
    },
    {
      "cell_type": "code",
      "execution_count": null,
      "id": "bd7fa7a3",
      "metadata": {
        "id": "bd7fa7a3"
      },
      "outputs": [],
      "source": [
        "adv=pd.read_csv('Advertising.csv')"
      ]
    },
    {
      "cell_type": "code",
      "execution_count": null,
      "id": "b941e0db",
      "metadata": {
        "id": "b941e0db",
        "outputId": "f8861332-666c-4203-db28-eae9429dd6f4"
      },
      "outputs": [
        {
          "data": {
            "text/html": [
              "<div>\n",
              "<style scoped>\n",
              "    .dataframe tbody tr th:only-of-type {\n",
              "        vertical-align: middle;\n",
              "    }\n",
              "\n",
              "    .dataframe tbody tr th {\n",
              "        vertical-align: top;\n",
              "    }\n",
              "\n",
              "    .dataframe thead th {\n",
              "        text-align: right;\n",
              "    }\n",
              "</style>\n",
              "<table border=\"1\" class=\"dataframe\">\n",
              "  <thead>\n",
              "    <tr style=\"text-align: right;\">\n",
              "      <th></th>\n",
              "      <th>Unnamed: 0</th>\n",
              "      <th>TV</th>\n",
              "      <th>Radio</th>\n",
              "      <th>Newspaper</th>\n",
              "      <th>Sales</th>\n",
              "    </tr>\n",
              "  </thead>\n",
              "  <tbody>\n",
              "    <tr>\n",
              "      <th>0</th>\n",
              "      <td>1</td>\n",
              "      <td>230.1</td>\n",
              "      <td>37.8</td>\n",
              "      <td>69.2</td>\n",
              "      <td>22.1</td>\n",
              "    </tr>\n",
              "    <tr>\n",
              "      <th>1</th>\n",
              "      <td>2</td>\n",
              "      <td>44.5</td>\n",
              "      <td>39.3</td>\n",
              "      <td>45.1</td>\n",
              "      <td>10.4</td>\n",
              "    </tr>\n",
              "    <tr>\n",
              "      <th>2</th>\n",
              "      <td>3</td>\n",
              "      <td>17.2</td>\n",
              "      <td>45.9</td>\n",
              "      <td>69.3</td>\n",
              "      <td>9.3</td>\n",
              "    </tr>\n",
              "    <tr>\n",
              "      <th>3</th>\n",
              "      <td>4</td>\n",
              "      <td>151.5</td>\n",
              "      <td>41.3</td>\n",
              "      <td>58.5</td>\n",
              "      <td>18.5</td>\n",
              "    </tr>\n",
              "    <tr>\n",
              "      <th>4</th>\n",
              "      <td>5</td>\n",
              "      <td>180.8</td>\n",
              "      <td>10.8</td>\n",
              "      <td>58.4</td>\n",
              "      <td>12.9</td>\n",
              "    </tr>\n",
              "    <tr>\n",
              "      <th>...</th>\n",
              "      <td>...</td>\n",
              "      <td>...</td>\n",
              "      <td>...</td>\n",
              "      <td>...</td>\n",
              "      <td>...</td>\n",
              "    </tr>\n",
              "    <tr>\n",
              "      <th>195</th>\n",
              "      <td>196</td>\n",
              "      <td>38.2</td>\n",
              "      <td>3.7</td>\n",
              "      <td>13.8</td>\n",
              "      <td>7.6</td>\n",
              "    </tr>\n",
              "    <tr>\n",
              "      <th>196</th>\n",
              "      <td>197</td>\n",
              "      <td>94.2</td>\n",
              "      <td>4.9</td>\n",
              "      <td>8.1</td>\n",
              "      <td>9.7</td>\n",
              "    </tr>\n",
              "    <tr>\n",
              "      <th>197</th>\n",
              "      <td>198</td>\n",
              "      <td>177.0</td>\n",
              "      <td>9.3</td>\n",
              "      <td>6.4</td>\n",
              "      <td>12.8</td>\n",
              "    </tr>\n",
              "    <tr>\n",
              "      <th>198</th>\n",
              "      <td>199</td>\n",
              "      <td>283.6</td>\n",
              "      <td>42.0</td>\n",
              "      <td>66.2</td>\n",
              "      <td>25.5</td>\n",
              "    </tr>\n",
              "    <tr>\n",
              "      <th>199</th>\n",
              "      <td>200</td>\n",
              "      <td>232.1</td>\n",
              "      <td>8.6</td>\n",
              "      <td>8.7</td>\n",
              "      <td>13.4</td>\n",
              "    </tr>\n",
              "  </tbody>\n",
              "</table>\n",
              "<p>200 rows × 5 columns</p>\n",
              "</div>"
            ],
            "text/plain": [
              "     Unnamed: 0     TV  Radio  Newspaper  Sales\n",
              "0             1  230.1   37.8       69.2   22.1\n",
              "1             2   44.5   39.3       45.1   10.4\n",
              "2             3   17.2   45.9       69.3    9.3\n",
              "3             4  151.5   41.3       58.5   18.5\n",
              "4             5  180.8   10.8       58.4   12.9\n",
              "..          ...    ...    ...        ...    ...\n",
              "195         196   38.2    3.7       13.8    7.6\n",
              "196         197   94.2    4.9        8.1    9.7\n",
              "197         198  177.0    9.3        6.4   12.8\n",
              "198         199  283.6   42.0       66.2   25.5\n",
              "199         200  232.1    8.6        8.7   13.4\n",
              "\n",
              "[200 rows x 5 columns]"
            ]
          },
          "execution_count": 5,
          "metadata": {},
          "output_type": "execute_result"
        }
      ],
      "source": [
        "adv"
      ]
    },
    {
      "cell_type": "code",
      "execution_count": null,
      "id": "d727ca38",
      "metadata": {
        "id": "d727ca38",
        "outputId": "c1da16a3-56f2-4690-9a5f-2f719807d1e0"
      },
      "outputs": [
        {
          "name": "stdout",
          "output_type": "stream",
          "text": [
            "<class 'pandas.core.frame.DataFrame'>\n",
            "RangeIndex: 200 entries, 0 to 199\n",
            "Data columns (total 5 columns):\n",
            " #   Column      Non-Null Count  Dtype  \n",
            "---  ------      --------------  -----  \n",
            " 0   Unnamed: 0  200 non-null    int64  \n",
            " 1   TV          200 non-null    float64\n",
            " 2   Radio       200 non-null    float64\n",
            " 3   Newspaper   200 non-null    float64\n",
            " 4   Sales       200 non-null    float64\n",
            "dtypes: float64(4), int64(1)\n",
            "memory usage: 7.9 KB\n"
          ]
        }
      ],
      "source": [
        "adv.info()"
      ]
    },
    {
      "cell_type": "code",
      "execution_count": null,
      "id": "676461ac",
      "metadata": {
        "id": "676461ac",
        "outputId": "1c432049-aac4-4d0f-f026-056ca58a2fe2"
      },
      "outputs": [
        {
          "data": {
            "text/plain": [
              "(200, 5)"
            ]
          },
          "execution_count": 9,
          "metadata": {},
          "output_type": "execute_result"
        }
      ],
      "source": [
        "adv.shape"
      ]
    },
    {
      "cell_type": "code",
      "execution_count": null,
      "id": "0d801429",
      "metadata": {
        "id": "0d801429",
        "outputId": "b2188b81-a048-4659-f370-968fe427621c"
      },
      "outputs": [
        {
          "data": {
            "text/html": [
              "<div>\n",
              "<style scoped>\n",
              "    .dataframe tbody tr th:only-of-type {\n",
              "        vertical-align: middle;\n",
              "    }\n",
              "\n",
              "    .dataframe tbody tr th {\n",
              "        vertical-align: top;\n",
              "    }\n",
              "\n",
              "    .dataframe thead th {\n",
              "        text-align: right;\n",
              "    }\n",
              "</style>\n",
              "<table border=\"1\" class=\"dataframe\">\n",
              "  <thead>\n",
              "    <tr style=\"text-align: right;\">\n",
              "      <th></th>\n",
              "      <th>Unnamed: 0</th>\n",
              "      <th>TV</th>\n",
              "      <th>Radio</th>\n",
              "      <th>Newspaper</th>\n",
              "      <th>Sales</th>\n",
              "    </tr>\n",
              "  </thead>\n",
              "  <tbody>\n",
              "    <tr>\n",
              "      <th>count</th>\n",
              "      <td>200.000000</td>\n",
              "      <td>200.000000</td>\n",
              "      <td>200.000000</td>\n",
              "      <td>200.000000</td>\n",
              "      <td>200.000000</td>\n",
              "    </tr>\n",
              "    <tr>\n",
              "      <th>mean</th>\n",
              "      <td>100.500000</td>\n",
              "      <td>147.042500</td>\n",
              "      <td>23.264000</td>\n",
              "      <td>30.554000</td>\n",
              "      <td>14.022500</td>\n",
              "    </tr>\n",
              "    <tr>\n",
              "      <th>std</th>\n",
              "      <td>57.879185</td>\n",
              "      <td>85.854236</td>\n",
              "      <td>14.846809</td>\n",
              "      <td>21.778621</td>\n",
              "      <td>5.217457</td>\n",
              "    </tr>\n",
              "    <tr>\n",
              "      <th>min</th>\n",
              "      <td>1.000000</td>\n",
              "      <td>0.700000</td>\n",
              "      <td>0.000000</td>\n",
              "      <td>0.300000</td>\n",
              "      <td>1.600000</td>\n",
              "    </tr>\n",
              "    <tr>\n",
              "      <th>25%</th>\n",
              "      <td>50.750000</td>\n",
              "      <td>74.375000</td>\n",
              "      <td>9.975000</td>\n",
              "      <td>12.750000</td>\n",
              "      <td>10.375000</td>\n",
              "    </tr>\n",
              "    <tr>\n",
              "      <th>50%</th>\n",
              "      <td>100.500000</td>\n",
              "      <td>149.750000</td>\n",
              "      <td>22.900000</td>\n",
              "      <td>25.750000</td>\n",
              "      <td>12.900000</td>\n",
              "    </tr>\n",
              "    <tr>\n",
              "      <th>75%</th>\n",
              "      <td>150.250000</td>\n",
              "      <td>218.825000</td>\n",
              "      <td>36.525000</td>\n",
              "      <td>45.100000</td>\n",
              "      <td>17.400000</td>\n",
              "    </tr>\n",
              "    <tr>\n",
              "      <th>max</th>\n",
              "      <td>200.000000</td>\n",
              "      <td>296.400000</td>\n",
              "      <td>49.600000</td>\n",
              "      <td>114.000000</td>\n",
              "      <td>27.000000</td>\n",
              "    </tr>\n",
              "  </tbody>\n",
              "</table>\n",
              "</div>"
            ],
            "text/plain": [
              "       Unnamed: 0          TV       Radio   Newspaper       Sales\n",
              "count  200.000000  200.000000  200.000000  200.000000  200.000000\n",
              "mean   100.500000  147.042500   23.264000   30.554000   14.022500\n",
              "std     57.879185   85.854236   14.846809   21.778621    5.217457\n",
              "min      1.000000    0.700000    0.000000    0.300000    1.600000\n",
              "25%     50.750000   74.375000    9.975000   12.750000   10.375000\n",
              "50%    100.500000  149.750000   22.900000   25.750000   12.900000\n",
              "75%    150.250000  218.825000   36.525000   45.100000   17.400000\n",
              "max    200.000000  296.400000   49.600000  114.000000   27.000000"
            ]
          },
          "execution_count": 10,
          "metadata": {},
          "output_type": "execute_result"
        }
      ],
      "source": [
        "adv.describe()"
      ]
    },
    {
      "cell_type": "code",
      "execution_count": null,
      "id": "d876d5f9",
      "metadata": {
        "id": "d876d5f9",
        "outputId": "87db1cc4-7637-4069-a240-b18ea74eaf82"
      },
      "outputs": [
        {
          "data": {
            "text/plain": [
              "<seaborn.axisgrid.PairGrid at 0x1ba43240070>"
            ]
          },
          "execution_count": 11,
          "metadata": {},
          "output_type": "execute_result"
        },
        {
          "data": {
            "image/png": "[encoded data removed]",
            "text/plain": [
              "<Figure size 1080x360 with 3 Axes>"
            ]
          },
          "metadata": {
            "needs_background": "light"
          },
          "output_type": "display_data"
        }
      ],
      "source": [
        "sns.pairplot(adv, x_vars = ['TV', 'Radio', 'Newspaper'], y_vars = 'Sales', size = 5, kind = 'scatter')"
      ]
    },
    {
      "cell_type": "code",
      "execution_count": null,
      "id": "62209d82",
      "metadata": {
        "id": "62209d82",
        "outputId": "d46f8e26-e910-4aa0-a479-0fdf9b41e710"
      },
      "outputs": [
        {
          "data": {
            "text/plain": [
              "<AxesSubplot:>"
            ]
          },
          "execution_count": 17,
          "metadata": {},
          "output_type": "execute_result"
        },
        {
          "data": {
            "image/png": "[encoded data removed]",
            "text/plain": [
              "<Figure size 432x288 with 2 Axes>"
            ]
          },
          "metadata": {
            "needs_background": "light"
          },
          "output_type": "display_data"
        }
      ],
      "source": [
        "sns.heatmap(adv.corr(),cmap=\"YlGnBu\", annot=True)"
      ]
    },
    {
      "cell_type": "code",
      "execution_count": null,
      "id": "142e2157",
      "metadata": {
        "id": "142e2157"
      },
      "outputs": [],
      "source": [
        "x=adv['TV']\n",
        "y=adv['Sales']"
      ]
    },
    {
      "cell_type": "code",
      "execution_count": null,
      "id": "1ec4ab01",
      "metadata": {
        "id": "1ec4ab01"
      },
      "outputs": [],
      "source": [
        "from sklearn.model_selection import train_test_split\n",
        "x_train,x_test,y_train,y_test=train_test_split(x,y,train_size=0.7,test_size=0.3,random_state=5)"
      ]
    },
    {
      "cell_type": "code",
      "execution_count": null,
      "id": "442bb91a",
      "metadata": {
        "id": "442bb91a",
        "outputId": "d8d9d95f-fb6b-4bcd-e2d5-271bfb21b794"
      },
      "outputs": [
        {
          "data": {
            "text/plain": [
              "170     50.0\n",
              "182     56.2\n",
              "59     210.7\n",
              "185    205.0\n",
              "12      23.8\n",
              "       ...  \n",
              "73     129.4\n",
              "144     96.2\n",
              "118    125.7\n",
              "189     18.7\n",
              "99     135.2\n",
              "Name: TV, Length: 140, dtype: float64"
            ]
          },
          "execution_count": 20,
          "metadata": {},
          "output_type": "execute_result"
        }
      ],
      "source": [
        "x_train"
      ]
    },
    {
      "cell_type": "code",
      "execution_count": null,
      "id": "b8614453",
      "metadata": {
        "id": "b8614453",
        "outputId": "2960e2b4-d903-4758-b39c-c7cb912937b4"
      },
      "outputs": [
        {
          "data": {
            "text/plain": [
              "170     50.0\n",
              "182     56.2\n",
              "59     210.7\n",
              "185    205.0\n",
              "12      23.8\n",
              "Name: TV, dtype: float64"
            ]
          },
          "execution_count": 22,
          "metadata": {},
          "output_type": "execute_result"
        }
      ],
      "source": [
        "x_train.head()"
      ]
    },
    {
      "cell_type": "code",
      "execution_count": null,
      "id": "d22eeead",
      "metadata": {
        "id": "d22eeead",
        "outputId": "e132e2fb-20a1-4996-c616-9908c3f32c52"
      },
      "outputs": [
        {
          "data": {
            "text/plain": [
              "119     19.4\n",
              "77     120.5\n",
              "148     38.0\n",
              "149     44.7\n",
              "154    187.8\n",
              "151    121.0\n",
              "122    224.0\n",
              "6       57.5\n",
              "28     248.8\n",
              "71     109.8\n",
              "188    286.0\n",
              "34      95.7\n",
              "21     237.4\n",
              "40     202.5\n",
              "55     198.9\n",
              "104    238.2\n",
              "3      151.5\n",
              "39     228.0\n",
              "117     76.4\n",
              "134     36.9\n",
              "180    156.6\n",
              "26     142.9\n",
              "54     262.7\n",
              "165    234.5\n",
              "53     182.6\n",
              "93     250.9\n",
              "174    222.4\n",
              "17     281.4\n",
              "56       7.3\n",
              "84     213.5\n",
              "25     262.9\n",
              "156     93.9\n",
              "42     293.6\n",
              "141    193.7\n",
              "50     199.8\n",
              "51     100.4\n",
              "195     38.2\n",
              "116    139.2\n",
              "142    220.5\n",
              "24      62.3\n",
              "159    131.7\n",
              "62     239.3\n",
              "166     17.9\n",
              "45     175.1\n",
              "23     228.3\n",
              "1       44.5\n",
              "162    188.4\n",
              "48     227.2\n",
              "160    172.5\n",
              "126      7.8\n",
              "123    123.1\n",
              "107     90.4\n",
              "43     206.9\n",
              "152    197.6\n",
              "114     78.2\n",
              "46      89.7\n",
              "172     19.6\n",
              "102    280.2\n",
              "61     261.3\n",
              "115     75.1\n",
              "Name: TV, dtype: float64"
            ]
          },
          "execution_count": 23,
          "metadata": {},
          "output_type": "execute_result"
        }
      ],
      "source": [
        "x_test"
      ]
    },
    {
      "cell_type": "code",
      "execution_count": null,
      "id": "034caeca",
      "metadata": {
        "id": "034caeca"
      },
      "outputs": [],
      "source": [
        "import statsmodels.api as sm\n"
      ]
    },
    {
      "cell_type": "code",
      "execution_count": null,
      "id": "86347e69",
      "metadata": {
        "id": "86347e69",
        "outputId": "71ff52e7-c780-4e1f-b073-a949214f4fbb"
      },
      "outputs": [
        {
          "data": {
            "text/html": [
              "<div>\n",
              "<style scoped>\n",
              "    .dataframe tbody tr th:only-of-type {\n",
              "        vertical-align: middle;\n",
              "    }\n",
              "\n",
              "    .dataframe tbody tr th {\n",
              "        vertical-align: top;\n",
              "    }\n",
              "\n",
              "    .dataframe thead th {\n",
              "        text-align: right;\n",
              "    }\n",
              "</style>\n",
              "<table border=\"1\" class=\"dataframe\">\n",
              "  <thead>\n",
              "    <tr style=\"text-align: right;\">\n",
              "      <th></th>\n",
              "      <th>const</th>\n",
              "      <th>TV</th>\n",
              "    </tr>\n",
              "  </thead>\n",
              "  <tbody>\n",
              "    <tr>\n",
              "      <th>170</th>\n",
              "      <td>1.0</td>\n",
              "      <td>50.0</td>\n",
              "    </tr>\n",
              "    <tr>\n",
              "      <th>182</th>\n",
              "      <td>1.0</td>\n",
              "      <td>56.2</td>\n",
              "    </tr>\n",
              "    <tr>\n",
              "      <th>59</th>\n",
              "      <td>1.0</td>\n",
              "      <td>210.7</td>\n",
              "    </tr>\n",
              "    <tr>\n",
              "      <th>185</th>\n",
              "      <td>1.0</td>\n",
              "      <td>205.0</td>\n",
              "    </tr>\n",
              "    <tr>\n",
              "      <th>12</th>\n",
              "      <td>1.0</td>\n",
              "      <td>23.8</td>\n",
              "    </tr>\n",
              "    <tr>\n",
              "      <th>...</th>\n",
              "      <td>...</td>\n",
              "      <td>...</td>\n",
              "    </tr>\n",
              "    <tr>\n",
              "      <th>73</th>\n",
              "      <td>1.0</td>\n",
              "      <td>129.4</td>\n",
              "    </tr>\n",
              "    <tr>\n",
              "      <th>144</th>\n",
              "      <td>1.0</td>\n",
              "      <td>96.2</td>\n",
              "    </tr>\n",
              "    <tr>\n",
              "      <th>118</th>\n",
              "      <td>1.0</td>\n",
              "      <td>125.7</td>\n",
              "    </tr>\n",
              "    <tr>\n",
              "      <th>189</th>\n",
              "      <td>1.0</td>\n",
              "      <td>18.7</td>\n",
              "    </tr>\n",
              "    <tr>\n",
              "      <th>99</th>\n",
              "      <td>1.0</td>\n",
              "      <td>135.2</td>\n",
              "    </tr>\n",
              "  </tbody>\n",
              "</table>\n",
              "<p>140 rows × 2 columns</p>\n",
              "</div>"
            ],
            "text/plain": [
              "     const     TV\n",
              "170    1.0   50.0\n",
              "182    1.0   56.2\n",
              "59     1.0  210.7\n",
              "185    1.0  205.0\n",
              "12     1.0   23.8\n",
              "..     ...    ...\n",
              "73     1.0  129.4\n",
              "144    1.0   96.2\n",
              "118    1.0  125.7\n",
              "189    1.0   18.7\n",
              "99     1.0  135.2\n",
              "\n",
              "[140 rows x 2 columns]"
            ]
          },
          "execution_count": 25,
          "metadata": {},
          "output_type": "execute_result"
        }
      ],
      "source": [
        "x_train_sm=sm.add_constant(x_train)\n",
        "x_train_sm"
      ]
    },
    {
      "cell_type": "code",
      "execution_count": null,
      "id": "bdca538e",
      "metadata": {
        "id": "bdca538e"
      },
      "outputs": [],
      "source": [
        "lr=sm.OLS(y_train,x_train_sm).fit()"
      ]
    },
    {
      "cell_type": "code",
      "execution_count": null,
      "id": "7bbe0bf0",
      "metadata": {
        "id": "7bbe0bf0",
        "outputId": "a5465a0e-a049-4552-d0d9-7fb2b26ae913"
      },
      "outputs": [
        {
          "data": {
            "text/plain": [
              "const    6.745302\n",
              "TV       0.050244\n",
              "dtype: float64"
            ]
          },
          "execution_count": 27,
          "metadata": {},
          "output_type": "execute_result"
        }
      ],
      "source": [
        "lr.params"
      ]
    },
    {
      "cell_type": "code",
      "execution_count": null,
      "id": "a03b9ddc",
      "metadata": {
        "id": "a03b9ddc",
        "outputId": "c191c12a-ea7d-4d2e-e0d0-dbc8897d4fed"
      },
      "outputs": [
        {
          "data": {
            "text/html": [
              "<table class=\"simpletable\">\n",
              "<caption>OLS Regression Results</caption>\n",
              "<tr>\n",
              "  <th>Dep. Variable:</th>          <td>Sales</td>      <th>  R-squared:         </th> <td>   0.641</td>\n",
              "</tr>\n",
              "<tr>\n",
              "  <th>Model:</th>                   <td>OLS</td>       <th>  Adj. R-squared:    </th> <td>   0.639</td>\n",
              "</tr>\n",
              "<tr>\n",
              "  <th>Method:</th>             <td>Least Squares</td>  <th>  F-statistic:       </th> <td>   246.6</td>\n",
              "</tr>\n",
              "<tr>\n",
              "  <th>Date:</th>             <td>Sun, 22 Jan 2023</td> <th>  Prob (F-statistic):</th> <td>1.64e-32</td>\n",
              "</tr>\n",
              "<tr>\n",
              "  <th>Time:</th>                 <td>12:30:29</td>     <th>  Log-Likelihood:    </th> <td> -363.07</td>\n",
              "</tr>\n",
              "<tr>\n",
              "  <th>No. Observations:</th>      <td>   140</td>      <th>  AIC:               </th> <td>   730.1</td>\n",
              "</tr>\n",
              "<tr>\n",
              "  <th>Df Residuals:</th>          <td>   138</td>      <th>  BIC:               </th> <td>   736.0</td>\n",
              "</tr>\n",
              "<tr>\n",
              "  <th>Df Model:</th>              <td>     1</td>      <th>                     </th>     <td> </td>   \n",
              "</tr>\n",
              "<tr>\n",
              "  <th>Covariance Type:</th>      <td>nonrobust</td>    <th>                     </th>     <td> </td>   \n",
              "</tr>\n",
              "</table>\n",
              "<table class=\"simpletable\">\n",
              "<tr>\n",
              "    <td></td>       <th>coef</th>     <th>std err</th>      <th>t</th>      <th>P>|t|</th>  <th>[0.025</th>    <th>0.975]</th>  \n",
              "</tr>\n",
              "<tr>\n",
              "  <th>const</th> <td>    6.7453</td> <td>    0.535</td> <td>   12.605</td> <td> 0.000</td> <td>    5.687</td> <td>    7.803</td>\n",
              "</tr>\n",
              "<tr>\n",
              "  <th>TV</th>    <td>    0.0502</td> <td>    0.003</td> <td>   15.702</td> <td> 0.000</td> <td>    0.044</td> <td>    0.057</td>\n",
              "</tr>\n",
              "</table>\n",
              "<table class=\"simpletable\">\n",
              "<tr>\n",
              "  <th>Omnibus:</th>       <td> 1.031</td> <th>  Durbin-Watson:     </th> <td>   1.672</td>\n",
              "</tr>\n",
              "<tr>\n",
              "  <th>Prob(Omnibus):</th> <td> 0.597</td> <th>  Jarque-Bera (JB):  </th> <td>   0.973</td>\n",
              "</tr>\n",
              "<tr>\n",
              "  <th>Skew:</th>          <td>-0.201</td> <th>  Prob(JB):          </th> <td>   0.615</td>\n",
              "</tr>\n",
              "<tr>\n",
              "  <th>Kurtosis:</th>      <td> 2.932</td> <th>  Cond. No.          </th> <td>    325.</td>\n",
              "</tr>\n",
              "</table><br/><br/>Notes:<br/>[1] Standard Errors assume that the covariance matrix of the errors is correctly specified."
            ],
            "text/plain": [
              "<class 'statsmodels.iolib.summary.Summary'>\n",
              "\"\"\"\n",
              "                            OLS Regression Results                            \n",
              "==============================================================================\n",
              "Dep. Variable:                  Sales   R-squared:                       0.641\n",
              "Model:                            OLS   Adj. R-squared:                  0.639\n",
              "Method:                 Least Squares   F-statistic:                     246.6\n",
              "Date:                Sun, 22 Jan 2023   Prob (F-statistic):           1.64e-32\n",
              "Time:                        12:30:29   Log-Likelihood:                -363.07\n",
              "No. Observations:                 140   AIC:                             730.1\n",
              "Df Residuals:                     138   BIC:                             736.0\n",
              "Df Model:                           1                                         \n",
              "Covariance Type:            nonrobust                                         \n",
              "==============================================================================\n",
              "                 coef    std err          t      P>|t|      [0.025      0.975]\n",
              "------------------------------------------------------------------------------\n",
              "const          6.7453      0.535     12.605      0.000       5.687       7.803\n",
              "TV             0.0502      0.003     15.702      0.000       0.044       0.057\n",
              "==============================================================================\n",
              "Omnibus:                        1.031   Durbin-Watson:                   1.672\n",
              "Prob(Omnibus):                  0.597   Jarque-Bera (JB):                0.973\n",
              "Skew:                          -0.201   Prob(JB):                        0.615\n",
              "Kurtosis:                       2.932   Cond. No.                         325.\n",
              "==============================================================================\n",
              "\n",
              "Notes:\n",
              "[1] Standard Errors assume that the covariance matrix of the errors is correctly specified.\n",
              "\"\"\""
            ]
          },
          "execution_count": 28,
          "metadata": {},
          "output_type": "execute_result"
        }
      ],
      "source": [
        "lr.summary()"
      ]
    },
    {
      "cell_type": "code",
      "execution_count": null,
      "id": "dd369845",
      "metadata": {
        "id": "dd369845",
        "outputId": "599b6ef1-cb0d-4781-ed94-5247bed9407f"
      },
      "outputs": [
        {
          "data": {
            "image/png": "[encoded data removed]",
            "text/plain": [
              "<Figure size 432x288 with 1 Axes>"
            ]
          },
          "metadata": {
            "needs_background": "light"
          },
          "output_type": "display_data"
        }
      ],
      "source": [
        "plt.scatter(x_train,y_train)\n",
        "plt.plot(x_train,0.05*x_train+6.74,'r')\n",
        "plt.show()"
      ]
    },
    {
      "cell_type": "code",
      "execution_count": null,
      "id": "a26af6bf",
      "metadata": {
        "id": "a26af6bf",
        "outputId": "3e422d4f-6e48-4166-dd1b-9005ac938019"
      },
      "outputs": [
        {
          "data": {
            "text/plain": [
              "170   -0.857478\n",
              "182   -0.868988\n",
              "59     1.068389\n",
              "185    5.554777\n",
              "12     1.258902\n",
              "         ...   \n",
              "73    -2.246813\n",
              "144   -0.178728\n",
              "118    2.839088\n",
              "189   -0.984856\n",
              "99     3.661775\n",
              "Length: 140, dtype: float64"
            ]
          },
          "execution_count": 32,
          "metadata": {},
          "output_type": "execute_result"
        }
      ],
      "source": [
        "y_train_p=lr.predict(x_train_sm)\n",
        "residue=(y_train-y_train_p)\n",
        "residue"
      ]
    },
    {
      "cell_type": "code",
      "execution_count": null,
      "id": "309b3bb9",
      "metadata": {
        "id": "309b3bb9",
        "outputId": "c79f1b01-7199-44a8-acec-c79fb91dcc8d"
      },
      "outputs": [
        {
          "data": {
            "text/plain": [
              "Text(0, 0.5, 'freq')"
            ]
          },
          "execution_count": 33,
          "metadata": {},
          "output_type": "execute_result"
        },
        {
          "data": {
            "image/png": "[encoded data removed]",
            "text/plain": [
              "<Figure size 432x288 with 1 Axes>"
            ]
          },
          "metadata": {
            "needs_background": "light"
          },
          "output_type": "display_data"
        }
      ],
      "source": [
        "sns.distplot(residue, bins = 15)\n",
        "plt.title('Error Terms')\n",
        "plt.xlabel('Residual Errors')\n",
        "plt.ylabel('freq')"
      ]
    },
    {
      "cell_type": "code",
      "execution_count": null,
      "id": "ad0c026d",
      "metadata": {
        "id": "ad0c026d",
        "outputId": "3ea8efc2-a236-44e5-e76d-129fc19f3037"
      },
      "outputs": [
        {
          "data": {
            "text/plain": [
              "<AxesSubplot:ylabel='Density'>"
            ]
          },
          "execution_count": 35,
          "metadata": {},
          "output_type": "execute_result"
        },
        {
          "data": {
            "image/png": "[encoded data removed]",
            "text/plain": [
              "<Figure size 432x288 with 1 Axes>"
            ]
          },
          "metadata": {
            "needs_background": "light"
          },
          "output_type": "display_data"
        }
      ],
      "source": [
        "x_test_sm=sm.add_constant(x_test)\n",
        "\n",
        "y_test_p=lr.predict(x_test_sm)\n",
        "res_test=(y_test-y_test_p)\n",
        "sns.distplot(res_test,bins=15)"
      ]
    },
    {
      "cell_type": "code",
      "execution_count": null,
      "id": "55eb8a2a",
      "metadata": {
        "id": "55eb8a2a"
      },
      "outputs": [],
      "source": [
        "#checking the quality or strength (R2)\n",
        "from sklearn.metrics import r2_score\n",
        "r_square=r2_score(y_test,y_test_p)"
      ]
    },
    {
      "cell_type": "code",
      "execution_count": null,
      "id": "bfd727dd",
      "metadata": {
        "id": "bfd727dd",
        "outputId": "02fc7442-44cc-4a0e-82e6-f12fae5018c0"
      },
      "outputs": [
        {
          "data": {
            "text/plain": [
              "0.5111616978794153"
            ]
          },
          "execution_count": 39,
          "metadata": {},
          "output_type": "execute_result"
        }
      ],
      "source": [
        "r_square"
      ]
    },
    {
      "cell_type": "code",
      "execution_count": null,
      "id": "1b76f10e",
      "metadata": {
        "id": "1b76f10e"
      },
      "outputs": [],
      "source": [
        "#Gradient descent\n",
        "from sklearn.model_selection import train_test_split\n",
        "x_train_lm,x_test_lm,y_train_lm,y_test_lm=train_test_split(x,y,train_size=.7,test_size=.3,random_state=5)"
      ]
    },
    {
      "cell_type": "code",
      "execution_count": null,
      "id": "c472182c",
      "metadata": {
        "id": "c472182c"
      },
      "outputs": [],
      "source": [
        "x_train_lm=x_train_lm.values.reshape(-1,1)\n",
        "x_test_lm=x_test_lm.values.reshape(-1,1)"
      ]
    },
    {
      "cell_type": "code",
      "execution_count": null,
      "id": "44744580",
      "metadata": {
        "id": "44744580",
        "outputId": "68641f45-a064-45b8-d5d3-28e82310054b"
      },
      "outputs": [
        {
          "data": {
            "text/plain": [
              "LinearRegression()"
            ]
          },
          "execution_count": 47,
          "metadata": {},
          "output_type": "execute_result"
        }
      ],
      "source": [
        "from sklearn.linear_model import LinearRegression\n",
        "lm=LinearRegression()\n",
        "lm.fit(x_train_lm,y_train_lm)\n"
      ]
    },
    {
      "cell_type": "code",
      "execution_count": null,
      "id": "d54c4f99",
      "metadata": {
        "id": "d54c4f99",
        "outputId": "31e03632-74d0-4f77-83fc-07d0eb835561"
      },
      "outputs": [
        {
          "data": {
            "text/plain": [
              "6.745302251222065"
            ]
          },
          "execution_count": 48,
          "metadata": {},
          "output_type": "execute_result"
        }
      ],
      "source": [
        "lm.intercept_"
      ]
    },
    {
      "cell_type": "code",
      "execution_count": null,
      "id": "8c973858",
      "metadata": {
        "id": "8c973858"
      },
      "outputs": [],
      "source": []
    }
  ],
  "metadata": {
    "kernelspec": {
      "display_name": "Python 3 (ipykernel)",
      "language": "python",
      "name": "python3"
    },
    "language_info": {
      "codemirror_mode": {
        "name": "ipython",
        "version": 3
      },
      "file_extension": ".py",
      "mimetype": "text/x-python",
      "name": "python",
      "nbconvert_exporter": "python",
      "pygments_lexer": "ipython3",
      "version": "3.9.12"
    },
    "colab": {
      "provenance": [],
      "include_colab_link": true
    }
  },
  "nbformat": 4,
  "nbformat_minor": 5
}