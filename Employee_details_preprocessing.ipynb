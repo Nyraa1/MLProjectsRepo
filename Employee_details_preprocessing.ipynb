{
  "cells": [
    {
      "cell_type": "markdown",
      "metadata": {
        "id": "view-in-github",
        "colab_type": "text"
      },
      "source": [
        "<a href=\"https://colab.research.google.com/github/Nyraa1/MLProjectsRepo/blob/master/Employee_details_preprocessing.ipynb\" target=\"_parent\"><img src=\"https://colab.research.google.com/assets/colab-badge.svg\" alt=\"Open In Colab\"/></a>"
      ]
    },
    {
      "cell_type": "code",
      "execution_count": null,
      "id": "6c109132",
      "metadata": {
        "id": "6c109132"
      },
      "outputs": [],
      "source": [
        "import os,sys\n",
        "import numpy as np\n",
        "import pandas as pd\n",
        "import matplotlib.pyplot as plt\n",
        "import seaborn as sns\n",
        "%matplotlib inline\n",
        "sns.set()\n",
        "import warnings\n",
        "warnings.filterwarnings(\"ignore\")"
      ]
    },
    {
      "cell_type": "code",
      "execution_count": null,
      "id": "1b1d2699",
      "metadata": {
        "id": "1b1d2699"
      },
      "outputs": [],
      "source": [
        "dataset=pd.read_excel('Employee_Data.xls')"
      ]
    },
    {
      "cell_type": "code",
      "execution_count": null,
      "id": "ae42c99a",
      "metadata": {
        "id": "ae42c99a",
        "outputId": "c908e462-59e1-4870-8651-cc185a1eb120"
      },
      "outputs": [
        {
          "data": {
            "text/html": [
              "<div>\n",
              "<style scoped>\n",
              "    .dataframe tbody tr th:only-of-type {\n",
              "        vertical-align: middle;\n",
              "    }\n",
              "\n",
              "    .dataframe tbody tr th {\n",
              "        vertical-align: top;\n",
              "    }\n",
              "\n",
              "    .dataframe thead th {\n",
              "        text-align: right;\n",
              "    }\n",
              "</style>\n",
              "<table border=\"1\" class=\"dataframe\">\n",
              "  <thead>\n",
              "    <tr style=\"text-align: right;\">\n",
              "      <th></th>\n",
              "      <th>Employee Id</th>\n",
              "      <th>First Name</th>\n",
              "      <th>Last Name</th>\n",
              "      <th>Department</th>\n",
              "      <th>Age</th>\n",
              "      <th>Experience</th>\n",
              "      <th>Salary</th>\n",
              "    </tr>\n",
              "  </thead>\n",
              "  <tbody>\n",
              "    <tr>\n",
              "      <th>0</th>\n",
              "      <td>1</td>\n",
              "      <td>Joy</td>\n",
              "      <td>Bass</td>\n",
              "      <td>Sales and Marketing</td>\n",
              "      <td>28.0</td>\n",
              "      <td>3.0</td>\n",
              "      <td>32889</td>\n",
              "    </tr>\n",
              "    <tr>\n",
              "      <th>1</th>\n",
              "      <td>2</td>\n",
              "      <td>Sheila</td>\n",
              "      <td>Garza</td>\n",
              "      <td>Sales and Marketing</td>\n",
              "      <td>22.0</td>\n",
              "      <td>1.0</td>\n",
              "      <td>15944</td>\n",
              "    </tr>\n",
              "    <tr>\n",
              "      <th>2</th>\n",
              "      <td>3</td>\n",
              "      <td>John</td>\n",
              "      <td>Bryant</td>\n",
              "      <td>Customer Relations</td>\n",
              "      <td>22.0</td>\n",
              "      <td>1.0</td>\n",
              "      <td>40343</td>\n",
              "    </tr>\n",
              "    <tr>\n",
              "      <th>3</th>\n",
              "      <td>4</td>\n",
              "      <td>Christian</td>\n",
              "      <td>Farley</td>\n",
              "      <td>Customer Relations</td>\n",
              "      <td>22.0</td>\n",
              "      <td>1.0</td>\n",
              "      <td>19018</td>\n",
              "    </tr>\n",
              "    <tr>\n",
              "      <th>4</th>\n",
              "      <td>5</td>\n",
              "      <td>Colorado</td>\n",
              "      <td>Bowen</td>\n",
              "      <td>Accounting</td>\n",
              "      <td>27.0</td>\n",
              "      <td>0.0</td>\n",
              "      <td>24795</td>\n",
              "    </tr>\n",
              "  </tbody>\n",
              "</table>\n",
              "</div>"
            ],
            "text/plain": [
              "   Employee Id First Name Last Name           Department   Age  Experience  \\\n",
              "0            1        Joy      Bass  Sales and Marketing  28.0         3.0   \n",
              "1            2     Sheila     Garza  Sales and Marketing  22.0         1.0   \n",
              "2            3       John    Bryant   Customer Relations  22.0         1.0   \n",
              "3            4  Christian    Farley   Customer Relations  22.0         1.0   \n",
              "4            5   Colorado     Bowen           Accounting  27.0         0.0   \n",
              "\n",
              "   Salary  \n",
              "0   32889  \n",
              "1   15944  \n",
              "2   40343  \n",
              "3   19018  \n",
              "4   24795  "
            ]
          },
          "execution_count": 3,
          "metadata": {},
          "output_type": "execute_result"
        }
      ],
      "source": [
        "dataset.head()"
      ]
    },
    {
      "cell_type": "code",
      "execution_count": null,
      "id": "a84d06be",
      "metadata": {
        "id": "a84d06be",
        "outputId": "ddc76f6d-7435-470d-b57a-3d13c0d06cfa"
      },
      "outputs": [
        {
          "data": {
            "text/html": [
              "<div>\n",
              "<style scoped>\n",
              "    .dataframe tbody tr th:only-of-type {\n",
              "        vertical-align: middle;\n",
              "    }\n",
              "\n",
              "    .dataframe tbody tr th {\n",
              "        vertical-align: top;\n",
              "    }\n",
              "\n",
              "    .dataframe thead th {\n",
              "        text-align: right;\n",
              "    }\n",
              "</style>\n",
              "<table border=\"1\" class=\"dataframe\">\n",
              "  <thead>\n",
              "    <tr style=\"text-align: right;\">\n",
              "      <th></th>\n",
              "      <th>Employee Id</th>\n",
              "      <th>First Name</th>\n",
              "      <th>Last Name</th>\n",
              "      <th>Department</th>\n",
              "      <th>Age</th>\n",
              "      <th>Experience</th>\n",
              "      <th>Salary</th>\n",
              "    </tr>\n",
              "  </thead>\n",
              "  <tbody>\n",
              "    <tr>\n",
              "      <th>0</th>\n",
              "      <td>1</td>\n",
              "      <td>Joy</td>\n",
              "      <td>Bass</td>\n",
              "      <td>Sales and Marketing</td>\n",
              "      <td>28.0</td>\n",
              "      <td>3.0</td>\n",
              "      <td>32889</td>\n",
              "    </tr>\n",
              "    <tr>\n",
              "      <th>1</th>\n",
              "      <td>2</td>\n",
              "      <td>Sheila</td>\n",
              "      <td>Garza</td>\n",
              "      <td>Sales and Marketing</td>\n",
              "      <td>22.0</td>\n",
              "      <td>1.0</td>\n",
              "      <td>15944</td>\n",
              "    </tr>\n",
              "    <tr>\n",
              "      <th>2</th>\n",
              "      <td>3</td>\n",
              "      <td>John</td>\n",
              "      <td>Bryant</td>\n",
              "      <td>Customer Relations</td>\n",
              "      <td>22.0</td>\n",
              "      <td>1.0</td>\n",
              "      <td>40343</td>\n",
              "    </tr>\n",
              "    <tr>\n",
              "      <th>3</th>\n",
              "      <td>4</td>\n",
              "      <td>Christian</td>\n",
              "      <td>Farley</td>\n",
              "      <td>Customer Relations</td>\n",
              "      <td>22.0</td>\n",
              "      <td>1.0</td>\n",
              "      <td>19018</td>\n",
              "    </tr>\n",
              "    <tr>\n",
              "      <th>4</th>\n",
              "      <td>5</td>\n",
              "      <td>Colorado</td>\n",
              "      <td>Bowen</td>\n",
              "      <td>Accounting</td>\n",
              "      <td>27.0</td>\n",
              "      <td>0.0</td>\n",
              "      <td>24795</td>\n",
              "    </tr>\n",
              "  </tbody>\n",
              "</table>\n",
              "</div>"
            ],
            "text/plain": [
              "   Employee Id First Name Last Name           Department   Age  Experience  \\\n",
              "0            1        Joy      Bass  Sales and Marketing  28.0         3.0   \n",
              "1            2     Sheila     Garza  Sales and Marketing  22.0         1.0   \n",
              "2            3       John    Bryant   Customer Relations  22.0         1.0   \n",
              "3            4  Christian    Farley   Customer Relations  22.0         1.0   \n",
              "4            5   Colorado     Bowen           Accounting  27.0         0.0   \n",
              "\n",
              "   Salary  \n",
              "0   32889  \n",
              "1   15944  \n",
              "2   40343  \n",
              "3   19018  \n",
              "4   24795  "
            ]
          },
          "execution_count": 4,
          "metadata": {},
          "output_type": "execute_result"
        }
      ],
      "source": [
        "mydata=dataset.copy()\n",
        "mydata.head()"
      ]
    },
    {
      "cell_type": "code",
      "execution_count": null,
      "id": "7092b965",
      "metadata": {
        "id": "7092b965",
        "outputId": "b075f0fb-0e05-4f1d-b63c-f95a1c702820"
      },
      "outputs": [
        {
          "name": "stdout",
          "output_type": "stream",
          "text": [
            "(100, 7)\n"
          ]
        }
      ],
      "source": [
        "print(dataset.shape)"
      ]
    },
    {
      "cell_type": "code",
      "execution_count": null,
      "id": "93723d22",
      "metadata": {
        "id": "93723d22",
        "outputId": "de5de172-ac6c-4432-e21e-675da4f4c879"
      },
      "outputs": [
        {
          "data": {
            "text/plain": [
              "Index(['Employee Id', 'First Name', 'Last Name', 'Department', 'Age',\n",
              "       'Experience', 'Salary'],\n",
              "      dtype='object')"
            ]
          },
          "execution_count": 6,
          "metadata": {},
          "output_type": "execute_result"
        }
      ],
      "source": [
        "dataset.columns"
      ]
    },
    {
      "cell_type": "code",
      "execution_count": null,
      "id": "e445571c",
      "metadata": {
        "id": "e445571c",
        "outputId": "cedf8272-324e-42d5-986f-34db16781f71"
      },
      "outputs": [
        {
          "name": "stdout",
          "output_type": "stream",
          "text": [
            "<class 'pandas.core.frame.DataFrame'>\n",
            "RangeIndex: 100 entries, 0 to 99\n",
            "Data columns (total 7 columns):\n",
            " #   Column       Non-Null Count  Dtype  \n",
            "---  ------       --------------  -----  \n",
            " 0   Employee Id  100 non-null    int64  \n",
            " 1   First Name   100 non-null    object \n",
            " 2   Last Name    100 non-null    object \n",
            " 3   Department   81 non-null     object \n",
            " 4   Age          82 non-null     float64\n",
            " 5   Experience   90 non-null     float64\n",
            " 6   Salary       100 non-null    int64  \n",
            "dtypes: float64(2), int64(2), object(3)\n",
            "memory usage: 5.6+ KB\n"
          ]
        }
      ],
      "source": [
        "dataset.info()"
      ]
    },
    {
      "cell_type": "code",
      "execution_count": null,
      "id": "5c8c26f4",
      "metadata": {
        "id": "5c8c26f4",
        "outputId": "bcaf7043-8392-4b29-8fb6-cc3ac6c88421"
      },
      "outputs": [
        {
          "data": {
            "text/plain": [
              "Employee Id     0\n",
              "First Name      0\n",
              "Last Name       0\n",
              "Department     19\n",
              "Age            18\n",
              "Experience     10\n",
              "Salary          0\n",
              "dtype: int64"
            ]
          },
          "execution_count": 8,
          "metadata": {},
          "output_type": "execute_result"
        }
      ],
      "source": [
        "dataset.isnull().sum()"
      ]
    },
    {
      "cell_type": "code",
      "execution_count": null,
      "id": "ec3e3abb",
      "metadata": {
        "id": "ec3e3abb",
        "outputId": "6ff0c72e-cd9d-4c96-b980-2f51972d5f99"
      },
      "outputs": [
        {
          "data": {
            "text/plain": [
              "Employee Id     0.0\n",
              "First Name      0.0\n",
              "Last Name       0.0\n",
              "Department     19.0\n",
              "Age            18.0\n",
              "Experience     10.0\n",
              "Salary          0.0\n",
              "dtype: float64"
            ]
          },
          "execution_count": 9,
          "metadata": {},
          "output_type": "execute_result"
        }
      ],
      "source": [
        "dataset.isnull().sum()/len(dataset)*100"
      ]
    },
    {
      "cell_type": "code",
      "execution_count": null,
      "id": "147d6053",
      "metadata": {
        "id": "147d6053"
      },
      "outputs": [],
      "source": [
        "# missing data % is less than 25% so we will do imputation"
      ]
    },
    {
      "cell_type": "code",
      "execution_count": null,
      "id": "406342f7",
      "metadata": {
        "id": "406342f7",
        "outputId": "d08ffc23-4845-4c2f-b07d-a8056edec1e5"
      },
      "outputs": [
        {
          "name": "stdout",
          "output_type": "stream",
          "text": [
            "<class 'pandas.core.frame.DataFrame'>\n",
            "RangeIndex: 100 entries, 0 to 99\n",
            "Data columns (total 7 columns):\n",
            " #   Column       Non-Null Count  Dtype  \n",
            "---  ------       --------------  -----  \n",
            " 0   Employee Id  100 non-null    int64  \n",
            " 1   First Name   100 non-null    object \n",
            " 2   Last Name    100 non-null    object \n",
            " 3   Department   81 non-null     object \n",
            " 4   Age          82 non-null     float64\n",
            " 5   Experience   90 non-null     float64\n",
            " 6   Salary       100 non-null    int64  \n",
            "dtypes: float64(2), int64(2), object(3)\n",
            "memory usage: 5.6+ KB\n"
          ]
        }
      ],
      "source": [
        "dataset.info()"
      ]
    },
    {
      "cell_type": "code",
      "execution_count": null,
      "id": "e106299d",
      "metadata": {
        "id": "e106299d",
        "outputId": "aece820e-cba0-4a26-c34d-5570c5bb9ff6"
      },
      "outputs": [
        {
          "data": {
            "text/plain": [
              "Sales and Marketing    30\n",
              "Accounting             27\n",
              "Customer Relations     24\n",
              "Name: Department, dtype: int64"
            ]
          },
          "execution_count": 12,
          "metadata": {},
          "output_type": "execute_result"
        }
      ],
      "source": [
        "#Department is object so we will use mode\n",
        "dataset['Department'].value_counts()"
      ]
    },
    {
      "cell_type": "code",
      "execution_count": null,
      "id": "dde8f862",
      "metadata": {
        "id": "dde8f862"
      },
      "outputs": [],
      "source": [
        "dataset['Department']=dataset['Department'].fillna('Sales and Marketing')"
      ]
    },
    {
      "cell_type": "code",
      "execution_count": null,
      "id": "81a05c31",
      "metadata": {
        "id": "81a05c31",
        "outputId": "b776bffd-0a50-48ad-a172-b64b565a521d"
      },
      "outputs": [
        {
          "data": {
            "text/plain": [
              "Sales and Marketing    49\n",
              "Accounting             27\n",
              "Customer Relations     24\n",
              "Name: Department, dtype: int64"
            ]
          },
          "execution_count": 14,
          "metadata": {},
          "output_type": "execute_result"
        }
      ],
      "source": [
        "dataset['Department'].value_counts()"
      ]
    },
    {
      "cell_type": "code",
      "execution_count": null,
      "id": "f35224b5",
      "metadata": {
        "id": "f35224b5",
        "outputId": "76c1f9f7-5ad5-47b6-f2db-75e085cf37c4"
      },
      "outputs": [
        {
          "data": {
            "text/plain": [
              "<AxesSubplot:ylabel='Age'>"
            ]
          },
          "execution_count": 15,
          "metadata": {},
          "output_type": "execute_result"
        },
        {
          "data": {
            "image/png": "[encoded data removed]",
            "text/plain": [
              "<Figure size 432x288 with 1 Axes>"
            ]
          },
          "metadata": {},
          "output_type": "display_data"
        }
      ],
      "source": [
        "#Age and Experience - number value\n",
        "#mean or median based on outlier\n",
        "#if outlier present - median else mean\n",
        "sns.boxplot(y='Age',data=dataset)"
      ]
    },
    {
      "cell_type": "code",
      "execution_count": null,
      "id": "6becafab",
      "metadata": {
        "id": "6becafab"
      },
      "outputs": [],
      "source": [
        "#there is no outlier for Age so mean method"
      ]
    },
    {
      "cell_type": "code",
      "execution_count": null,
      "id": "461ae749",
      "metadata": {
        "id": "461ae749",
        "outputId": "4192d613-5e6b-46dc-f6ad-942a18137841"
      },
      "outputs": [
        {
          "data": {
            "text/plain": [
              "<AxesSubplot:ylabel='Experience'>"
            ]
          },
          "execution_count": 17,
          "metadata": {},
          "output_type": "execute_result"
        },
        {
          "data": {
            "image/png": "[encoded data removed]",
            "text/plain": [
              "<Figure size 432x288 with 1 Axes>"
            ]
          },
          "metadata": {},
          "output_type": "display_data"
        }
      ],
      "source": [
        "sns.boxplot(y='Experience',data=dataset)"
      ]
    },
    {
      "cell_type": "code",
      "execution_count": null,
      "id": "a2f456d3",
      "metadata": {
        "id": "a2f456d3"
      },
      "outputs": [],
      "source": [
        "#there is no outlier for Experience so mean method"
      ]
    },
    {
      "cell_type": "code",
      "execution_count": null,
      "id": "c2794734",
      "metadata": {
        "id": "c2794734",
        "outputId": "b31d882c-8f66-4b59-a6a5-dae6fb107723"
      },
      "outputs": [
        {
          "data": {
            "image/png": "[encoded data removed]",
            "text/plain": [
              "<Figure size 432x288 with 1 Axes>"
            ]
          },
          "metadata": {},
          "output_type": "display_data"
        },
        {
          "data": {
            "image/png": "[encoded data removed]",
            "text/plain": [
              "<Figure size 432x288 with 1 Axes>"
            ]
          },
          "metadata": {},
          "output_type": "display_data"
        },
        {
          "data": {
            "image/png": "[encoded data removed]",
            "text/plain": [
              "<Figure size 432x288 with 1 Axes>"
            ]
          },
          "metadata": {},
          "output_type": "display_data"
        }
      ],
      "source": [
        "#to do boxplot for all columns in the dataset\n",
        "def boxplot(col):\n",
        "    sns.boxplot(dataset[col])\n",
        "    plt.show()\n",
        "\n",
        "for i in list(dataset.select_dtypes(exclude=['object']).columns)[1:]:\n",
        "    boxplot(i)"
      ]
    },
    {
      "cell_type": "code",
      "execution_count": null,
      "id": "9887f6de",
      "metadata": {
        "id": "9887f6de",
        "outputId": "91b0604c-03ef-44c4-f9fb-1e959ea206e8"
      },
      "outputs": [
        {
          "data": {
            "text/plain": [
              "Employee Id      int64\n",
              "First Name      object\n",
              "Last Name       object\n",
              "Department      object\n",
              "Age            float64\n",
              "Experience     float64\n",
              "Salary           int64\n",
              "dtype: object"
            ]
          },
          "execution_count": 20,
          "metadata": {},
          "output_type": "execute_result"
        }
      ],
      "source": [
        "dataset.dtypes"
      ]
    },
    {
      "cell_type": "code",
      "execution_count": null,
      "id": "68e05ed1",
      "metadata": {
        "id": "68e05ed1",
        "outputId": "96058f37-7afd-4759-fb10-4b3548e588d1"
      },
      "outputs": [
        {
          "data": {
            "text/html": [
              "<div>\n",
              "<style scoped>\n",
              "    .dataframe tbody tr th:only-of-type {\n",
              "        vertical-align: middle;\n",
              "    }\n",
              "\n",
              "    .dataframe tbody tr th {\n",
              "        vertical-align: top;\n",
              "    }\n",
              "\n",
              "    .dataframe thead th {\n",
              "        text-align: right;\n",
              "    }\n",
              "</style>\n",
              "<table border=\"1\" class=\"dataframe\">\n",
              "  <thead>\n",
              "    <tr style=\"text-align: right;\">\n",
              "      <th></th>\n",
              "      <th>Employee Id</th>\n",
              "      <th>Age</th>\n",
              "      <th>Experience</th>\n",
              "      <th>Salary</th>\n",
              "    </tr>\n",
              "  </thead>\n",
              "  <tbody>\n",
              "    <tr>\n",
              "      <th>count</th>\n",
              "      <td>100.000000</td>\n",
              "      <td>82.000000</td>\n",
              "      <td>90.000000</td>\n",
              "      <td>100.000000</td>\n",
              "    </tr>\n",
              "    <tr>\n",
              "      <th>mean</th>\n",
              "      <td>50.500000</td>\n",
              "      <td>37.975610</td>\n",
              "      <td>14.766667</td>\n",
              "      <td>65066.760000</td>\n",
              "    </tr>\n",
              "    <tr>\n",
              "      <th>std</th>\n",
              "      <td>29.011492</td>\n",
              "      <td>9.515388</td>\n",
              "      <td>6.889252</td>\n",
              "      <td>26189.874212</td>\n",
              "    </tr>\n",
              "    <tr>\n",
              "      <th>min</th>\n",
              "      <td>1.000000</td>\n",
              "      <td>22.000000</td>\n",
              "      <td>0.000000</td>\n",
              "      <td>11830.000000</td>\n",
              "    </tr>\n",
              "    <tr>\n",
              "      <th>25%</th>\n",
              "      <td>25.750000</td>\n",
              "      <td>27.250000</td>\n",
              "      <td>9.250000</td>\n",
              "      <td>48526.000000</td>\n",
              "    </tr>\n",
              "    <tr>\n",
              "      <th>50%</th>\n",
              "      <td>50.500000</td>\n",
              "      <td>42.000000</td>\n",
              "      <td>16.500000</td>\n",
              "      <td>73500.500000</td>\n",
              "    </tr>\n",
              "    <tr>\n",
              "      <th>75%</th>\n",
              "      <td>75.250000</td>\n",
              "      <td>45.750000</td>\n",
              "      <td>21.000000</td>\n",
              "      <td>86621.250000</td>\n",
              "    </tr>\n",
              "    <tr>\n",
              "      <th>max</th>\n",
              "      <td>100.000000</td>\n",
              "      <td>50.000000</td>\n",
              "      <td>25.000000</td>\n",
              "      <td>98180.000000</td>\n",
              "    </tr>\n",
              "  </tbody>\n",
              "</table>\n",
              "</div>"
            ],
            "text/plain": [
              "       Employee Id        Age  Experience        Salary\n",
              "count   100.000000  82.000000   90.000000    100.000000\n",
              "mean     50.500000  37.975610   14.766667  65066.760000\n",
              "std      29.011492   9.515388    6.889252  26189.874212\n",
              "min       1.000000  22.000000    0.000000  11830.000000\n",
              "25%      25.750000  27.250000    9.250000  48526.000000\n",
              "50%      50.500000  42.000000   16.500000  73500.500000\n",
              "75%      75.250000  45.750000   21.000000  86621.250000\n",
              "max     100.000000  50.000000   25.000000  98180.000000"
            ]
          },
          "execution_count": 21,
          "metadata": {},
          "output_type": "execute_result"
        }
      ],
      "source": [
        "dataset.describe()"
      ]
    },
    {
      "cell_type": "code",
      "execution_count": null,
      "id": "9849c457",
      "metadata": {
        "id": "9849c457"
      },
      "outputs": [],
      "source": [
        "dataset['Age']=dataset['Age'].fillna(dataset['Age'].mean())"
      ]
    },
    {
      "cell_type": "code",
      "execution_count": null,
      "id": "a97ee008",
      "metadata": {
        "id": "a97ee008"
      },
      "outputs": [],
      "source": [
        "dataset['Experience']=dataset['Experience'].fillna(dataset['Age'].mean())"
      ]
    },
    {
      "cell_type": "code",
      "execution_count": null,
      "id": "73258dec",
      "metadata": {
        "id": "73258dec",
        "outputId": "3e7f89e0-2a7e-47e0-b192-b74985106909"
      },
      "outputs": [
        {
          "data": {
            "text/plain": [
              "Employee Id    0\n",
              "First Name     0\n",
              "Last Name      0\n",
              "Department     0\n",
              "Age            0\n",
              "Experience     0\n",
              "Salary         0\n",
              "dtype: int64"
            ]
          },
          "execution_count": 24,
          "metadata": {},
          "output_type": "execute_result"
        }
      ],
      "source": [
        "dataset.isnull().sum()"
      ]
    },
    {
      "cell_type": "code",
      "execution_count": null,
      "id": "7eb4b9ad",
      "metadata": {
        "id": "7eb4b9ad"
      },
      "outputs": [],
      "source": [
        "#Automated step for missing value handling using sklearn\n",
        "from sklearn.impute import SimpleImputer\n",
        "simple_imputer=SimpleImputer(missing_values=np.nan,strategy='mean')\n",
        "x=mydata.iloc[:,4:].values\n",
        "x\n",
        "x=simple_imputer.fit_transform(x)\n"
      ]
    },
    {
      "cell_type": "code",
      "execution_count": null,
      "id": "829af136",
      "metadata": {
        "id": "829af136",
        "outputId": "96e19ee0-3a07-449c-d655-51f56521ba64"
      },
      "outputs": [
        {
          "data": {
            "text/plain": [
              "0    0\n",
              "1    0\n",
              "2    0\n",
              "dtype: int64"
            ]
          },
          "execution_count": 26,
          "metadata": {},
          "output_type": "execute_result"
        }
      ],
      "source": [
        "pd.DataFrame(x).isnull().sum()"
      ]
    },
    {
      "cell_type": "code",
      "execution_count": null,
      "id": "7aca3cf3",
      "metadata": {
        "id": "7aca3cf3",
        "outputId": "b0a51e49-90db-4381-dce9-89f87e3842f5"
      },
      "outputs": [
        {
          "data": {
            "text/html": [
              "<div>\n",
              "<style scoped>\n",
              "    .dataframe tbody tr th:only-of-type {\n",
              "        vertical-align: middle;\n",
              "    }\n",
              "\n",
              "    .dataframe tbody tr th {\n",
              "        vertical-align: top;\n",
              "    }\n",
              "\n",
              "    .dataframe thead th {\n",
              "        text-align: right;\n",
              "    }\n",
              "</style>\n",
              "<table border=\"1\" class=\"dataframe\">\n",
              "  <thead>\n",
              "    <tr style=\"text-align: right;\">\n",
              "      <th></th>\n",
              "      <th>Department</th>\n",
              "      <th>Age</th>\n",
              "      <th>Experience</th>\n",
              "      <th>Salary</th>\n",
              "    </tr>\n",
              "  </thead>\n",
              "  <tbody>\n",
              "    <tr>\n",
              "      <th>0</th>\n",
              "      <td>Sales and Marketing</td>\n",
              "      <td>28.0</td>\n",
              "      <td>3.0</td>\n",
              "      <td>32889</td>\n",
              "    </tr>\n",
              "    <tr>\n",
              "      <th>1</th>\n",
              "      <td>Sales and Marketing</td>\n",
              "      <td>22.0</td>\n",
              "      <td>1.0</td>\n",
              "      <td>15944</td>\n",
              "    </tr>\n",
              "    <tr>\n",
              "      <th>2</th>\n",
              "      <td>Customer Relations</td>\n",
              "      <td>22.0</td>\n",
              "      <td>1.0</td>\n",
              "      <td>40343</td>\n",
              "    </tr>\n",
              "    <tr>\n",
              "      <th>3</th>\n",
              "      <td>Customer Relations</td>\n",
              "      <td>22.0</td>\n",
              "      <td>1.0</td>\n",
              "      <td>19018</td>\n",
              "    </tr>\n",
              "    <tr>\n",
              "      <th>4</th>\n",
              "      <td>Accounting</td>\n",
              "      <td>27.0</td>\n",
              "      <td>0.0</td>\n",
              "      <td>24795</td>\n",
              "    </tr>\n",
              "    <tr>\n",
              "      <th>...</th>\n",
              "      <td>...</td>\n",
              "      <td>...</td>\n",
              "      <td>...</td>\n",
              "      <td>...</td>\n",
              "    </tr>\n",
              "    <tr>\n",
              "      <th>95</th>\n",
              "      <td>Sales and Marketing</td>\n",
              "      <td>47.0</td>\n",
              "      <td>22.0</td>\n",
              "      <td>79077</td>\n",
              "    </tr>\n",
              "    <tr>\n",
              "      <th>96</th>\n",
              "      <td>Sales and Marketing</td>\n",
              "      <td>46.0</td>\n",
              "      <td>20.0</td>\n",
              "      <td>81187</td>\n",
              "    </tr>\n",
              "    <tr>\n",
              "      <th>97</th>\n",
              "      <td>Customer Relations</td>\n",
              "      <td>44.0</td>\n",
              "      <td>18.0</td>\n",
              "      <td>83847</td>\n",
              "    </tr>\n",
              "    <tr>\n",
              "      <th>98</th>\n",
              "      <td>Customer Relations</td>\n",
              "      <td>47.0</td>\n",
              "      <td>22.0</td>\n",
              "      <td>89158</td>\n",
              "    </tr>\n",
              "    <tr>\n",
              "      <th>99</th>\n",
              "      <td>Accounting</td>\n",
              "      <td>44.0</td>\n",
              "      <td>21.0</td>\n",
              "      <td>91645</td>\n",
              "    </tr>\n",
              "  </tbody>\n",
              "</table>\n",
              "<p>100 rows × 4 columns</p>\n",
              "</div>"
            ],
            "text/plain": [
              "             Department   Age  Experience  Salary\n",
              "0   Sales and Marketing  28.0         3.0   32889\n",
              "1   Sales and Marketing  22.0         1.0   15944\n",
              "2    Customer Relations  22.0         1.0   40343\n",
              "3    Customer Relations  22.0         1.0   19018\n",
              "4            Accounting  27.0         0.0   24795\n",
              "..                  ...   ...         ...     ...\n",
              "95  Sales and Marketing  47.0        22.0   79077\n",
              "96  Sales and Marketing  46.0        20.0   81187\n",
              "97   Customer Relations  44.0        18.0   83847\n",
              "98   Customer Relations  47.0        22.0   89158\n",
              "99           Accounting  44.0        21.0   91645\n",
              "\n",
              "[100 rows x 4 columns]"
            ]
          },
          "execution_count": 27,
          "metadata": {},
          "output_type": "execute_result"
        }
      ],
      "source": [
        "#Encoding part\n",
        "dataset_1=dataset.iloc[:,3:]\n",
        "dataset_1"
      ]
    },
    {
      "cell_type": "code",
      "execution_count": null,
      "id": "038ba341",
      "metadata": {
        "id": "038ba341",
        "outputId": "e4236f1b-08a2-4396-a6ba-ca5c3f095cf1"
      },
      "outputs": [
        {
          "data": {
            "text/plain": [
              "Department    0\n",
              "Age           0\n",
              "Experience    0\n",
              "Salary        0\n",
              "dtype: int64"
            ]
          },
          "execution_count": 28,
          "metadata": {},
          "output_type": "execute_result"
        }
      ],
      "source": [
        "dataset_1.isnull().sum()"
      ]
    },
    {
      "cell_type": "code",
      "execution_count": null,
      "id": "36124a51",
      "metadata": {
        "id": "36124a51",
        "outputId": "e61be49b-1243-464d-c134-198b9698a693"
      },
      "outputs": [
        {
          "name": "stdout",
          "output_type": "stream",
          "text": [
            "<class 'pandas.core.frame.DataFrame'>\n",
            "RangeIndex: 100 entries, 0 to 99\n",
            "Data columns (total 4 columns):\n",
            " #   Column      Non-Null Count  Dtype  \n",
            "---  ------      --------------  -----  \n",
            " 0   Department  100 non-null    object \n",
            " 1   Age         100 non-null    float64\n",
            " 2   Experience  100 non-null    float64\n",
            " 3   Salary      100 non-null    int64  \n",
            "dtypes: float64(2), int64(1), object(1)\n",
            "memory usage: 3.2+ KB\n"
          ]
        }
      ],
      "source": [
        "dataset_1.info()"
      ]
    },
    {
      "cell_type": "code",
      "execution_count": null,
      "id": "255e678a",
      "metadata": {
        "id": "255e678a",
        "outputId": "45f0f607-845c-4402-88f7-58c5633cc72a"
      },
      "outputs": [
        {
          "data": {
            "text/plain": [
              "Sales and Marketing    49\n",
              "Accounting             27\n",
              "Customer Relations     24\n",
              "Name: Department, dtype: int64"
            ]
          },
          "execution_count": 30,
          "metadata": {},
          "output_type": "execute_result"
        }
      ],
      "source": [
        "dataset_1['Department'].value_counts()"
      ]
    },
    {
      "cell_type": "code",
      "execution_count": null,
      "id": "dd5b5c92",
      "metadata": {
        "id": "dd5b5c92"
      },
      "outputs": [],
      "source": [
        "#label encoder"
      ]
    },
    {
      "cell_type": "code",
      "execution_count": null,
      "id": "c90a8ae7",
      "metadata": {
        "id": "c90a8ae7",
        "outputId": "cf711cd1-99a9-40c7-c55b-a584a0d97450"
      },
      "outputs": [
        {
          "data": {
            "text/html": [
              "<div>\n",
              "<style scoped>\n",
              "    .dataframe tbody tr th:only-of-type {\n",
              "        vertical-align: middle;\n",
              "    }\n",
              "\n",
              "    .dataframe tbody tr th {\n",
              "        vertical-align: top;\n",
              "    }\n",
              "\n",
              "    .dataframe thead th {\n",
              "        text-align: right;\n",
              "    }\n",
              "</style>\n",
              "<table border=\"1\" class=\"dataframe\">\n",
              "  <thead>\n",
              "    <tr style=\"text-align: right;\">\n",
              "      <th></th>\n",
              "      <th>Department</th>\n",
              "      <th>Age</th>\n",
              "      <th>Experience</th>\n",
              "      <th>Salary</th>\n",
              "    </tr>\n",
              "  </thead>\n",
              "  <tbody>\n",
              "    <tr>\n",
              "      <th>0</th>\n",
              "      <td>2</td>\n",
              "      <td>28.0</td>\n",
              "      <td>3.0</td>\n",
              "      <td>32889</td>\n",
              "    </tr>\n",
              "    <tr>\n",
              "      <th>1</th>\n",
              "      <td>2</td>\n",
              "      <td>22.0</td>\n",
              "      <td>1.0</td>\n",
              "      <td>15944</td>\n",
              "    </tr>\n",
              "    <tr>\n",
              "      <th>2</th>\n",
              "      <td>1</td>\n",
              "      <td>22.0</td>\n",
              "      <td>1.0</td>\n",
              "      <td>40343</td>\n",
              "    </tr>\n",
              "    <tr>\n",
              "      <th>3</th>\n",
              "      <td>1</td>\n",
              "      <td>22.0</td>\n",
              "      <td>1.0</td>\n",
              "      <td>19018</td>\n",
              "    </tr>\n",
              "    <tr>\n",
              "      <th>4</th>\n",
              "      <td>0</td>\n",
              "      <td>27.0</td>\n",
              "      <td>0.0</td>\n",
              "      <td>24795</td>\n",
              "    </tr>\n",
              "    <tr>\n",
              "      <th>...</th>\n",
              "      <td>...</td>\n",
              "      <td>...</td>\n",
              "      <td>...</td>\n",
              "      <td>...</td>\n",
              "    </tr>\n",
              "    <tr>\n",
              "      <th>95</th>\n",
              "      <td>2</td>\n",
              "      <td>47.0</td>\n",
              "      <td>22.0</td>\n",
              "      <td>79077</td>\n",
              "    </tr>\n",
              "    <tr>\n",
              "      <th>96</th>\n",
              "      <td>2</td>\n",
              "      <td>46.0</td>\n",
              "      <td>20.0</td>\n",
              "      <td>81187</td>\n",
              "    </tr>\n",
              "    <tr>\n",
              "      <th>97</th>\n",
              "      <td>1</td>\n",
              "      <td>44.0</td>\n",
              "      <td>18.0</td>\n",
              "      <td>83847</td>\n",
              "    </tr>\n",
              "    <tr>\n",
              "      <th>98</th>\n",
              "      <td>1</td>\n",
              "      <td>47.0</td>\n",
              "      <td>22.0</td>\n",
              "      <td>89158</td>\n",
              "    </tr>\n",
              "    <tr>\n",
              "      <th>99</th>\n",
              "      <td>0</td>\n",
              "      <td>44.0</td>\n",
              "      <td>21.0</td>\n",
              "      <td>91645</td>\n",
              "    </tr>\n",
              "  </tbody>\n",
              "</table>\n",
              "<p>100 rows × 4 columns</p>\n",
              "</div>"
            ],
            "text/plain": [
              "    Department   Age  Experience  Salary\n",
              "0            2  28.0         3.0   32889\n",
              "1            2  22.0         1.0   15944\n",
              "2            1  22.0         1.0   40343\n",
              "3            1  22.0         1.0   19018\n",
              "4            0  27.0         0.0   24795\n",
              "..         ...   ...         ...     ...\n",
              "95           2  47.0        22.0   79077\n",
              "96           2  46.0        20.0   81187\n",
              "97           1  44.0        18.0   83847\n",
              "98           1  47.0        22.0   89158\n",
              "99           0  44.0        21.0   91645\n",
              "\n",
              "[100 rows x 4 columns]"
            ]
          },
          "execution_count": 32,
          "metadata": {},
          "output_type": "execute_result"
        }
      ],
      "source": [
        "dataset_1['Department']=dataset_1['Department'].astype('category')\n",
        "dataset_1['Department']=dataset_1['Department'].cat.codes\n",
        "dataset_1"
      ]
    },
    {
      "cell_type": "code",
      "execution_count": null,
      "id": "871ff223",
      "metadata": {
        "id": "871ff223"
      },
      "outputs": [],
      "source": [
        "#one hot encoder\n",
        "dataset_1=pd.get_dummies(dataset_1,columns=['Department'])"
      ]
    },
    {
      "cell_type": "code",
      "execution_count": null,
      "id": "ec0d2f8f",
      "metadata": {
        "id": "ec0d2f8f",
        "outputId": "9b6938c4-0910-407b-aae1-adedf5e3862f"
      },
      "outputs": [
        {
          "data": {
            "text/html": [
              "<div>\n",
              "<style scoped>\n",
              "    .dataframe tbody tr th:only-of-type {\n",
              "        vertical-align: middle;\n",
              "    }\n",
              "\n",
              "    .dataframe tbody tr th {\n",
              "        vertical-align: top;\n",
              "    }\n",
              "\n",
              "    .dataframe thead th {\n",
              "        text-align: right;\n",
              "    }\n",
              "</style>\n",
              "<table border=\"1\" class=\"dataframe\">\n",
              "  <thead>\n",
              "    <tr style=\"text-align: right;\">\n",
              "      <th></th>\n",
              "      <th>Age</th>\n",
              "      <th>Experience</th>\n",
              "      <th>Salary</th>\n",
              "      <th>Department_0</th>\n",
              "      <th>Department_1</th>\n",
              "      <th>Department_2</th>\n",
              "    </tr>\n",
              "  </thead>\n",
              "  <tbody>\n",
              "    <tr>\n",
              "      <th>0</th>\n",
              "      <td>28.0</td>\n",
              "      <td>3.0</td>\n",
              "      <td>32889</td>\n",
              "      <td>0</td>\n",
              "      <td>0</td>\n",
              "      <td>1</td>\n",
              "    </tr>\n",
              "    <tr>\n",
              "      <th>1</th>\n",
              "      <td>22.0</td>\n",
              "      <td>1.0</td>\n",
              "      <td>15944</td>\n",
              "      <td>0</td>\n",
              "      <td>0</td>\n",
              "      <td>1</td>\n",
              "    </tr>\n",
              "    <tr>\n",
              "      <th>2</th>\n",
              "      <td>22.0</td>\n",
              "      <td>1.0</td>\n",
              "      <td>40343</td>\n",
              "      <td>0</td>\n",
              "      <td>1</td>\n",
              "      <td>0</td>\n",
              "    </tr>\n",
              "    <tr>\n",
              "      <th>3</th>\n",
              "      <td>22.0</td>\n",
              "      <td>1.0</td>\n",
              "      <td>19018</td>\n",
              "      <td>0</td>\n",
              "      <td>1</td>\n",
              "      <td>0</td>\n",
              "    </tr>\n",
              "    <tr>\n",
              "      <th>4</th>\n",
              "      <td>27.0</td>\n",
              "      <td>0.0</td>\n",
              "      <td>24795</td>\n",
              "      <td>1</td>\n",
              "      <td>0</td>\n",
              "      <td>0</td>\n",
              "    </tr>\n",
              "    <tr>\n",
              "      <th>...</th>\n",
              "      <td>...</td>\n",
              "      <td>...</td>\n",
              "      <td>...</td>\n",
              "      <td>...</td>\n",
              "      <td>...</td>\n",
              "      <td>...</td>\n",
              "    </tr>\n",
              "    <tr>\n",
              "      <th>95</th>\n",
              "      <td>47.0</td>\n",
              "      <td>22.0</td>\n",
              "      <td>79077</td>\n",
              "      <td>0</td>\n",
              "      <td>0</td>\n",
              "      <td>1</td>\n",
              "    </tr>\n",
              "    <tr>\n",
              "      <th>96</th>\n",
              "      <td>46.0</td>\n",
              "      <td>20.0</td>\n",
              "      <td>81187</td>\n",
              "      <td>0</td>\n",
              "      <td>0</td>\n",
              "      <td>1</td>\n",
              "    </tr>\n",
              "    <tr>\n",
              "      <th>97</th>\n",
              "      <td>44.0</td>\n",
              "      <td>18.0</td>\n",
              "      <td>83847</td>\n",
              "      <td>0</td>\n",
              "      <td>1</td>\n",
              "      <td>0</td>\n",
              "    </tr>\n",
              "    <tr>\n",
              "      <th>98</th>\n",
              "      <td>47.0</td>\n",
              "      <td>22.0</td>\n",
              "      <td>89158</td>\n",
              "      <td>0</td>\n",
              "      <td>1</td>\n",
              "      <td>0</td>\n",
              "    </tr>\n",
              "    <tr>\n",
              "      <th>99</th>\n",
              "      <td>44.0</td>\n",
              "      <td>21.0</td>\n",
              "      <td>91645</td>\n",
              "      <td>1</td>\n",
              "      <td>0</td>\n",
              "      <td>0</td>\n",
              "    </tr>\n",
              "  </tbody>\n",
              "</table>\n",
              "<p>100 rows × 6 columns</p>\n",
              "</div>"
            ],
            "text/plain": [
              "     Age  Experience  Salary  Department_0  Department_1  Department_2\n",
              "0   28.0         3.0   32889             0             0             1\n",
              "1   22.0         1.0   15944             0             0             1\n",
              "2   22.0         1.0   40343             0             1             0\n",
              "3   22.0         1.0   19018             0             1             0\n",
              "4   27.0         0.0   24795             1             0             0\n",
              "..   ...         ...     ...           ...           ...           ...\n",
              "95  47.0        22.0   79077             0             0             1\n",
              "96  46.0        20.0   81187             0             0             1\n",
              "97  44.0        18.0   83847             0             1             0\n",
              "98  47.0        22.0   89158             0             1             0\n",
              "99  44.0        21.0   91645             1             0             0\n",
              "\n",
              "[100 rows x 6 columns]"
            ]
          },
          "execution_count": 34,
          "metadata": {},
          "output_type": "execute_result"
        }
      ],
      "source": [
        "dataset_1"
      ]
    },
    {
      "cell_type": "code",
      "execution_count": null,
      "id": "44080ee4",
      "metadata": {
        "id": "44080ee4"
      },
      "outputs": [],
      "source": [
        "#dummy variable:\n",
        "dataset_1=dataset_1.drop(['Department_2'],axis=1)"
      ]
    },
    {
      "cell_type": "code",
      "execution_count": null,
      "id": "7e3b1ced",
      "metadata": {
        "id": "7e3b1ced",
        "outputId": "d3fba5ff-515e-49d1-c0d7-e051bf1f9fbf"
      },
      "outputs": [
        {
          "data": {
            "text/html": [
              "<div>\n",
              "<style scoped>\n",
              "    .dataframe tbody tr th:only-of-type {\n",
              "        vertical-align: middle;\n",
              "    }\n",
              "\n",
              "    .dataframe tbody tr th {\n",
              "        vertical-align: top;\n",
              "    }\n",
              "\n",
              "    .dataframe thead th {\n",
              "        text-align: right;\n",
              "    }\n",
              "</style>\n",
              "<table border=\"1\" class=\"dataframe\">\n",
              "  <thead>\n",
              "    <tr style=\"text-align: right;\">\n",
              "      <th></th>\n",
              "      <th>Age</th>\n",
              "      <th>Experience</th>\n",
              "      <th>Salary</th>\n",
              "      <th>Department_0</th>\n",
              "      <th>Department_1</th>\n",
              "    </tr>\n",
              "  </thead>\n",
              "  <tbody>\n",
              "    <tr>\n",
              "      <th>0</th>\n",
              "      <td>28.0</td>\n",
              "      <td>3.0</td>\n",
              "      <td>32889</td>\n",
              "      <td>0</td>\n",
              "      <td>0</td>\n",
              "    </tr>\n",
              "    <tr>\n",
              "      <th>1</th>\n",
              "      <td>22.0</td>\n",
              "      <td>1.0</td>\n",
              "      <td>15944</td>\n",
              "      <td>0</td>\n",
              "      <td>0</td>\n",
              "    </tr>\n",
              "    <tr>\n",
              "      <th>2</th>\n",
              "      <td>22.0</td>\n",
              "      <td>1.0</td>\n",
              "      <td>40343</td>\n",
              "      <td>0</td>\n",
              "      <td>1</td>\n",
              "    </tr>\n",
              "    <tr>\n",
              "      <th>3</th>\n",
              "      <td>22.0</td>\n",
              "      <td>1.0</td>\n",
              "      <td>19018</td>\n",
              "      <td>0</td>\n",
              "      <td>1</td>\n",
              "    </tr>\n",
              "    <tr>\n",
              "      <th>4</th>\n",
              "      <td>27.0</td>\n",
              "      <td>0.0</td>\n",
              "      <td>24795</td>\n",
              "      <td>1</td>\n",
              "      <td>0</td>\n",
              "    </tr>\n",
              "    <tr>\n",
              "      <th>...</th>\n",
              "      <td>...</td>\n",
              "      <td>...</td>\n",
              "      <td>...</td>\n",
              "      <td>...</td>\n",
              "      <td>...</td>\n",
              "    </tr>\n",
              "    <tr>\n",
              "      <th>95</th>\n",
              "      <td>47.0</td>\n",
              "      <td>22.0</td>\n",
              "      <td>79077</td>\n",
              "      <td>0</td>\n",
              "      <td>0</td>\n",
              "    </tr>\n",
              "    <tr>\n",
              "      <th>96</th>\n",
              "      <td>46.0</td>\n",
              "      <td>20.0</td>\n",
              "      <td>81187</td>\n",
              "      <td>0</td>\n",
              "      <td>0</td>\n",
              "    </tr>\n",
              "    <tr>\n",
              "      <th>97</th>\n",
              "      <td>44.0</td>\n",
              "      <td>18.0</td>\n",
              "      <td>83847</td>\n",
              "      <td>0</td>\n",
              "      <td>1</td>\n",
              "    </tr>\n",
              "    <tr>\n",
              "      <th>98</th>\n",
              "      <td>47.0</td>\n",
              "      <td>22.0</td>\n",
              "      <td>89158</td>\n",
              "      <td>0</td>\n",
              "      <td>1</td>\n",
              "    </tr>\n",
              "    <tr>\n",
              "      <th>99</th>\n",
              "      <td>44.0</td>\n",
              "      <td>21.0</td>\n",
              "      <td>91645</td>\n",
              "      <td>1</td>\n",
              "      <td>0</td>\n",
              "    </tr>\n",
              "  </tbody>\n",
              "</table>\n",
              "<p>100 rows × 5 columns</p>\n",
              "</div>"
            ],
            "text/plain": [
              "     Age  Experience  Salary  Department_0  Department_1\n",
              "0   28.0         3.0   32889             0             0\n",
              "1   22.0         1.0   15944             0             0\n",
              "2   22.0         1.0   40343             0             1\n",
              "3   22.0         1.0   19018             0             1\n",
              "4   27.0         0.0   24795             1             0\n",
              "..   ...         ...     ...           ...           ...\n",
              "95  47.0        22.0   79077             0             0\n",
              "96  46.0        20.0   81187             0             0\n",
              "97  44.0        18.0   83847             0             1\n",
              "98  47.0        22.0   89158             0             1\n",
              "99  44.0        21.0   91645             1             0\n",
              "\n",
              "[100 rows x 5 columns]"
            ]
          },
          "execution_count": 36,
          "metadata": {},
          "output_type": "execute_result"
        }
      ],
      "source": [
        "dataset_1"
      ]
    },
    {
      "cell_type": "markdown",
      "id": "462bf603",
      "metadata": {
        "id": "462bf603"
      },
      "source": [
        "# Feature scaling"
      ]
    },
    {
      "cell_type": "markdown",
      "id": "b8d8f540",
      "metadata": {
        "id": "b8d8f540"
      },
      "source": [
        "# 1.Standardisation\n",
        "2.normalization"
      ]
    },
    {
      "cell_type": "code",
      "execution_count": null,
      "id": "6db52d82",
      "metadata": {
        "id": "6db52d82"
      },
      "outputs": [],
      "source": [
        "from sklearn.preprocessing import StandardScaler\n",
        "sc_x=StandardScaler()\n",
        "x_fs_stand=sc_x.fit_transform(dataset_1)"
      ]
    },
    {
      "cell_type": "code",
      "execution_count": null,
      "id": "c77681d1",
      "metadata": {
        "id": "c77681d1",
        "outputId": "f973471b-094b-44af-a5d7-c832b9c83d72"
      },
      "outputs": [
        {
          "data": {
            "text/plain": [
              "array([[-1.16485118e+00, -1.47905526e+00, -1.23482325e+00,\n",
              "        -6.08163641e-01, -5.61951487e-01],\n",
              "       [-1.86547071e+00, -1.68903557e+00, -1.88508853e+00,\n",
              "        -6.08163641e-01, -5.61951487e-01],\n",
              "       [-1.86547071e+00, -1.68903557e+00, -9.48775604e-01,\n",
              "        -6.08163641e-01,  1.77951304e+00],\n",
              "       [-1.86547071e+00, -1.68903557e+00, -1.76712361e+00,\n",
              "        -6.08163641e-01,  1.77951304e+00],\n",
              "       [-1.28162110e+00, -1.79402573e+00, -1.54543093e+00,\n",
              "         1.64429429e+00, -5.61951487e-01],\n",
              "       [-1.39839102e+00, -1.26907494e+00, -1.90646343e+00,\n",
              "         1.64429429e+00, -5.61951487e-01],\n",
              "       [-1.63193087e+00, -1.16408478e+00, -1.18769869e+00,\n",
              "        -6.08163641e-01,  1.77951304e+00],\n",
              "       [-1.04808125e+00, -1.58404541e+00, -1.87914039e+00,\n",
              "        -6.08163641e-01,  1.77951304e+00],\n",
              "       [-1.04808125e+00, -1.26907494e+00, -8.81158761e-01,\n",
              "        -6.08163641e-01, -5.61951487e-01],\n",
              "       [-9.31311332e-01, -1.16408478e+00, -2.04062262e+00,\n",
              "        -6.08163641e-01,  1.77951304e+00],\n",
              "       [-1.39839102e+00, -1.26907494e+00, -1.16582491e+00,\n",
              "         1.64429429e+00, -5.61951487e-01],\n",
              "       [-1.39839102e+00, -1.16408478e+00, -1.59324625e+00,\n",
              "        -6.08163641e-01, -5.61951487e-01],\n",
              "       [-1.63193087e+00, -1.26907494e+00, -1.37984258e+00,\n",
              "         1.64429429e+00, -5.61951487e-01],\n",
              "       [-1.86547071e+00, -1.58404541e+00, -1.21387047e+00,\n",
              "         1.64429429e+00, -5.61951487e-01],\n",
              "       [-1.51516094e+00, -1.47905526e+00, -2.04296350e+00,\n",
              "        -6.08163641e-01, -5.61951487e-01],\n",
              "       [-1.51516094e+00,  2.19303955e+00, -8.05943657e-01,\n",
              "         1.64429429e+00, -5.61951487e-01],\n",
              "       [-1.86547071e+00,  2.19303955e+00, -1.98785692e+00,\n",
              "        -6.08163641e-01,  1.77951304e+00],\n",
              "       [-1.51516094e+00,  2.19303955e+00, -1.85872487e+00,\n",
              "         1.64429429e+00, -5.61951487e-01],\n",
              "       [-1.28162110e+00,  2.19303955e+00, -1.35006354e+00,\n",
              "         1.64429429e+00, -5.61951487e-01],\n",
              "       [-1.51516094e+00,  2.19303955e+00, -1.32788275e+00,\n",
              "        -6.08163641e-01, -5.61951487e-01],\n",
              "       [-1.86547071e+00,  2.19303955e+00, -1.92350195e+00,\n",
              "        -6.08163641e-01, -5.61951487e-01],\n",
              "       [-1.86547071e+00,  2.19303955e+00, -1.78193638e+00,\n",
              "        -6.08163641e-01, -5.61951487e-01],\n",
              "       [-1.63193087e+00,  2.19303955e+00, -1.03166572e+00,\n",
              "        -6.08163641e-01, -5.61951487e-01],\n",
              "       [-1.28162110e+00,  2.19303955e+00, -8.43244208e-01,\n",
              "        -6.08163641e-01, -5.61951487e-01],\n",
              "       [-1.86547071e+00,  2.19303955e+00, -1.47720009e+00,\n",
              "        -6.08163641e-01, -5.61951487e-01],\n",
              "       [-5.81001565e-01, -4.29153674e-01, -5.31063151e-01,\n",
              "        -6.08163641e-01, -5.61951487e-01],\n",
              "       [-2.30691798e-01, -1.05909462e+00, -2.74948046e-01,\n",
              "        -6.08163641e-01, -5.61951487e-01],\n",
              "       [-3.47461720e-01, -7.44124149e-01, -4.15746116e-01,\n",
              "        -6.08163641e-01, -5.61951487e-01],\n",
              "       [-5.81001565e-01, -5.34143832e-01,  1.89697098e-01,\n",
              "        -6.08163641e-01, -5.61951487e-01],\n",
              "       [-9.31311332e-01, -3.24163516e-01,  3.69023721e-01,\n",
              "        -6.08163641e-01, -5.61951487e-01],\n",
              "       [ 2.36387892e-01, -2.19173357e-01, -4.29791385e-01,\n",
              "        -6.08163641e-01, -5.61951487e-01],\n",
              "       [ 1.19617969e-01, -5.34143832e-01, -1.89947303e-01,\n",
              "        -6.08163641e-01, -5.61951487e-01],\n",
              "       [ 8.29700201e-16, -8.49114307e-01,  2.68174082e-01,\n",
              "        -6.08163641e-01, -5.61951487e-01],\n",
              "       [ 8.29700201e-16, -1.05909462e+00, -5.77688840e-01,\n",
              "        -6.08163641e-01, -5.61951487e-01],\n",
              "       [ 8.29700201e-16, -2.19173357e-01, -5.73659460e-01,\n",
              "        -6.08163641e-01, -5.61951487e-01],\n",
              "       [ 8.29700201e-16, -6.39133990e-01,  2.78266721e-01,\n",
              "        -6.08163641e-01, -5.61951487e-01],\n",
              "       [ 8.29700201e-16, -7.44124149e-01, -4.31288013e-01,\n",
              "        -6.08163641e-01, -5.61951487e-01],\n",
              "       [ 8.29700201e-16, -1.05909462e+00, -2.57295521e-01,\n",
              "        -6.08163641e-01, -5.61951487e-01],\n",
              "       [ 8.29700201e-16, -4.29153674e-01, -6.43073791e-02,\n",
              "        -6.08163641e-01, -5.61951487e-01],\n",
              "       [ 8.29700201e-16, -8.49114307e-01, -7.99644008e-02,\n",
              "        -6.08163641e-01, -5.61951487e-01],\n",
              "       [ 8.29700201e-16, -9.54104465e-01,  3.34722564e-02,\n",
              "        -6.08163641e-01,  1.77951304e+00],\n",
              "       [ 8.29700201e-16, -5.34143832e-01, -5.12374500e-01,\n",
              "         1.64429429e+00, -5.61951487e-01],\n",
              "       [ 8.29700201e-16, -8.49114307e-01, -4.15093740e-01,\n",
              "         1.64429429e+00, -5.61951487e-01],\n",
              "       [ 8.29700201e-16, -5.34143832e-01, -5.60458441e-01,\n",
              "        -6.08163641e-01, -5.61951487e-01],\n",
              "       [ 8.29700201e-16, -2.19173357e-01, -2.48961995e-02,\n",
              "        -6.08163641e-01, -5.61951487e-01],\n",
              "       [ 8.29700201e-16, -3.24163516e-01, -1.88143676e-01,\n",
              "        -6.08163641e-01,  1.77951304e+00],\n",
              "       [ 8.29700201e-16, -7.44124149e-01,  5.60751627e-02,\n",
              "        -6.08163641e-01, -5.61951487e-01],\n",
              "       [ 8.29700201e-16, -9.54104465e-01, -2.98894079e-01,\n",
              "        -6.08163641e-01,  1.77951304e+00],\n",
              "       [ 8.29700201e-16, -5.34143832e-01,  2.50982058e-01,\n",
              "        -6.08163641e-01,  1.77951304e+00],\n",
              "       [ 8.29700201e-16, -2.19173357e-01, -1.47542869e-01,\n",
              "        -6.08163641e-01,  1.77951304e+00],\n",
              "       [ 2.84804689e-03, -3.24163516e-01,  1.27452762e-01,\n",
              "        -6.08163641e-01, -5.61951487e-01],\n",
              "       [ 3.53157814e-01,  8.30728226e-01,  1.13733066e+00,\n",
              "         1.64429429e+00, -5.61951487e-01],\n",
              "       [ 7.03467581e-01, -9.19304069e-03,  9.37358259e-01,\n",
              "        -6.08163641e-01,  1.77951304e+00],\n",
              "       [ 3.53157814e-01, -9.19304069e-03,  1.12221089e+00,\n",
              "         1.64429429e+00, -5.61951487e-01],\n",
              "       [ 1.40408712e+00,  4.10767592e-01,  6.35039590e-01,\n",
              "        -6.08163641e-01, -5.61951487e-01],\n",
              "       [ 1.05377735e+00,  2.00787276e-01,  7.38306858e-01,\n",
              "        -6.08163641e-01, -5.61951487e-01],\n",
              "       [ 5.86697659e-01,  8.30728226e-01,  4.75284243e-01,\n",
              "         1.64429429e+00, -5.61951487e-01],\n",
              "       [ 1.17054727e+00,  8.30728226e-01,  4.54254714e-01,\n",
              "        -6.08163641e-01,  1.77951304e+00],\n",
              "       [ 9.37007426e-01,  5.15757751e-01,  9.87437703e-01,\n",
              "         1.64429429e+00, -5.61951487e-01],\n",
              "       [ 7.03467581e-01, -1.14183199e-01,  8.13330087e-01,\n",
              "        -6.08163641e-01,  1.77951304e+00],\n",
              "       [ 4.69927736e-01,  4.10767592e-01,  5.09054290e-01,\n",
              "         1.64429429e+00, -5.61951487e-01],\n",
              "       [ 7.03467581e-01,  2.00787276e-01,  7.60372513e-01,\n",
              "        -6.08163641e-01, -5.61951487e-01],\n",
              "       [ 1.28731719e+00, -1.14183199e-01,  4.39825694e-01,\n",
              "        -6.08163641e-01,  1.77951304e+00],\n",
              "       [ 7.03467581e-01,  9.57971176e-02,  7.08297566e-01,\n",
              "        -6.08163641e-01,  1.77951304e+00],\n",
              "       [ 1.28731719e+00,  5.15757751e-01,  9.28340121e-01,\n",
              "        -6.08163641e-01, -5.61951487e-01],\n",
              "       [ 7.03467581e-01, -9.19304069e-03,  3.97728261e-01,\n",
              "         1.64429429e+00, -5.61951487e-01],\n",
              "       [ 1.17054727e+00, -1.14183199e-01,  1.02857576e+00,\n",
              "        -6.08163641e-01, -5.61951487e-01],\n",
              "       [ 1.05377735e+00,  6.20747909e-01,  4.46733204e-01,\n",
              "        -6.08163641e-01,  1.77951304e+00],\n",
              "       [ 1.40408712e+00,  5.15757751e-01,  1.15720894e+00,\n",
              "        -6.08163641e-01,  1.77951304e+00],\n",
              "       [ 4.69927736e-01,  2.00787276e-01,  9.87591203e-01,\n",
              "        -6.08163641e-01, -5.61951487e-01],\n",
              "       [ 1.17054727e+00,  2.00787276e-01,  8.13944088e-01,\n",
              "         1.64429429e+00, -5.61951487e-01],\n",
              "       [ 9.37007426e-01,  7.25738067e-01,  4.70602487e-01,\n",
              "        -6.08163641e-01,  1.77951304e+00],\n",
              "       [ 4.69927736e-01,  6.20747909e-01,  7.75914410e-01,\n",
              "        -6.08163641e-01, -5.61951487e-01],\n",
              "       [ 8.20237504e-01,  5.15757751e-01,  9.92503210e-01,\n",
              "        -6.08163641e-01, -5.61951487e-01],\n",
              "       [ 1.17054727e+00, -9.19304069e-03,  9.12030724e-01,\n",
              "        -6.08163641e-01,  1.77951304e+00],\n",
              "       [ 3.53157814e-01,  6.20747909e-01,  1.18353422e+00,\n",
              "        -6.08163641e-01, -5.61951487e-01],\n",
              "       [ 1.28731719e+00,  2.00787276e-01,  1.04757141e+00,\n",
              "        -6.08163641e-01, -5.61951487e-01],\n",
              "       [ 3.53157814e-01,  5.15757751e-01,  1.10471187e+00,\n",
              "        -6.08163641e-01, -5.61951487e-01],\n",
              "       [ 4.69927736e-01,  7.25738067e-01,  7.77833163e-01,\n",
              "        -6.08163641e-01, -5.61951487e-01],\n",
              "       [ 3.53157814e-01,  5.15757751e-01,  5.69149623e-01,\n",
              "         1.64429429e+00, -5.61951487e-01],\n",
              "       [ 8.20237504e-01,  4.10767592e-01,  7.53733629e-01,\n",
              "         1.64429429e+00, -5.61951487e-01],\n",
              "       [ 5.86697659e-01, -1.14183199e-01,  8.94685199e-01,\n",
              "        -6.08163641e-01,  1.77951304e+00],\n",
              "       [ 9.37007426e-01,  9.57971176e-02,  1.07984483e+00,\n",
              "         1.64429429e+00, -5.61951487e-01],\n",
              "       [ 1.05377735e+00,  3.05777434e-01,  1.02569763e+00,\n",
              "        -6.08163641e-01, -5.61951487e-01],\n",
              "       [ 8.20237504e-01, -9.19304069e-03,  1.20364275e+00,\n",
              "         1.64429429e+00, -5.61951487e-01],\n",
              "       [ 4.69927736e-01, -9.19304069e-03,  6.99701554e-01,\n",
              "        -6.08163641e-01, -5.61951487e-01],\n",
              "       [ 7.03467581e-01,  4.10767592e-01,  1.14017041e+00,\n",
              "        -6.08163641e-01, -5.61951487e-01],\n",
              "       [ 8.20237504e-01,  2.00787276e-01,  6.60674125e-01,\n",
              "         1.64429429e+00, -5.61951487e-01],\n",
              "       [ 7.03467581e-01,  4.10767592e-01,  1.22758879e+00,\n",
              "         1.64429429e+00, -5.61951487e-01],\n",
              "       [ 1.05377735e+00,  3.05777434e-01,  8.66786536e-01,\n",
              "        -6.08163641e-01,  1.77951304e+00],\n",
              "       [ 7.03467581e-01,  2.00787276e-01,  9.52017529e-01,\n",
              "        -6.08163641e-01, -5.61951487e-01],\n",
              "       [ 7.03467581e-01,  9.57971176e-02,  1.27072235e+00,\n",
              "         1.64429429e+00, -5.61951487e-01],\n",
              "       [ 3.53157814e-01, -9.19304069e-03,  7.33663476e-01,\n",
              "        -6.08163641e-01, -5.61951487e-01],\n",
              "       [ 1.17054727e+00,  4.10767592e-01,  5.54221728e-01,\n",
              "         1.64429429e+00, -5.61951487e-01],\n",
              "       [ 1.17054727e+00,  5.15757751e-01,  1.26343109e+00,\n",
              "         1.64429429e+00, -5.61951487e-01],\n",
              "       [ 1.05377735e+00,  5.15757751e-01,  5.37643705e-01,\n",
              "        -6.08163641e-01, -5.61951487e-01],\n",
              "       [ 9.37007426e-01,  3.05777434e-01,  6.18615067e-01,\n",
              "        -6.08163641e-01, -5.61951487e-01],\n",
              "       [ 7.03467581e-01,  9.57971176e-02,  7.20692708e-01,\n",
              "        -6.08163641e-01,  1.77951304e+00],\n",
              "       [ 1.05377735e+00,  5.15757751e-01,  9.24502616e-01,\n",
              "        -6.08163641e-01,  1.77951304e+00],\n",
              "       [ 7.03467581e-01,  4.10767592e-01,  1.01994137e+00,\n",
              "         1.64429429e+00, -5.61951487e-01]])"
            ]
          },
          "execution_count": 38,
          "metadata": {},
          "output_type": "execute_result"
        }
      ],
      "source": [
        "x_fs_stand"
      ]
    },
    {
      "cell_type": "code",
      "execution_count": null,
      "id": "fcddd1db",
      "metadata": {
        "id": "fcddd1db"
      },
      "outputs": [],
      "source": [
        "#Normalisation"
      ]
    },
    {
      "cell_type": "code",
      "execution_count": null,
      "id": "38b1fb46",
      "metadata": {
        "id": "38b1fb46"
      },
      "outputs": [],
      "source": [
        "from sklearn.preprocessing import Normalizer"
      ]
    },
    {
      "cell_type": "code",
      "execution_count": null,
      "id": "83c177b4",
      "metadata": {
        "id": "83c177b4",
        "outputId": "65a6ffe6-316e-43f0-8861-37f04da39492"
      },
      "outputs": [
        {
          "data": {
            "text/plain": [
              "array([[8.51348163e-04, 9.12158746e-05, 9.99999633e-01, 0.00000000e+00,\n",
              "        0.00000000e+00],\n",
              "       [1.37982809e-03, 6.27194585e-05, 9.99999046e-01, 0.00000000e+00,\n",
              "        0.00000000e+00],\n",
              "       [5.45323767e-04, 2.47874439e-05, 9.99999851e-01, 0.00000000e+00,\n",
              "        2.47874439e-05],\n",
              "       [1.15679804e-03, 5.25817293e-05, 9.99999328e-01, 0.00000000e+00,\n",
              "        5.25817293e-05],\n",
              "       [1.08892857e-03, 0.00000000e+00, 9.99999406e-01, 4.03306879e-05,\n",
              "        0.00000000e+00],\n",
              "       [1.68973559e-03, 3.24949151e-04, 9.99998517e-01, 6.49898302e-05,\n",
              "        0.00000000e+00],\n",
              "       [7.03461432e-04, 1.75865358e-04, 9.99999737e-01, 0.00000000e+00,\n",
              "        2.93108930e-05],\n",
              "       [1.80135118e-03, 1.24231116e-04, 9.99998368e-01, 0.00000000e+00,\n",
              "        6.21155580e-05],\n",
              "       [6.88754136e-04, 1.18750713e-04, 9.99999756e-01, 0.00000000e+00,\n",
              "        0.00000000e+00],\n",
              "       [2.52290813e-03, 5.04581626e-04, 9.99996687e-01, 0.00000000e+00,\n",
              "        8.40969377e-05],\n",
              "       [7.49560135e-04, 1.44146180e-04, 9.99999708e-01, 2.88292360e-05,\n",
              "        0.00000000e+00],\n",
              "       [1.10408014e-03, 2.54787726e-04, 9.99999358e-01, 0.00000000e+00,\n",
              "        0.00000000e+00],\n",
              "       [8.24458656e-04, 1.71762220e-04, 9.99999645e-01, 3.43524440e-05,\n",
              "        0.00000000e+00],\n",
              "       [6.57992977e-04, 5.98175434e-05, 9.99999781e-01, 2.99087717e-05,\n",
              "        0.00000000e+00],\n",
              "       [2.11326656e-03, 2.53591987e-04, 9.99997735e-01, 0.00000000e+00,\n",
              "        0.00000000e+00],\n",
              "       [5.67343395e-04, 8.61808454e-04, 9.99999467e-01, 2.26937358e-05,\n",
              "        0.00000000e+00],\n",
              "       [1.65836571e-03, 2.86261132e-03, 9.99994525e-01, 0.00000000e+00,\n",
              "        7.53802597e-05],\n",
              "       [1.50321126e-03, 2.28341457e-03, 9.99996261e-01, 6.01284506e-05,\n",
              "        0.00000000e+00],\n",
              "       [9.03431947e-04, 1.27068071e-03, 9.99998784e-01, 3.34604425e-05,\n",
              "        0.00000000e+00],\n",
              "       [8.20639842e-04, 1.24657194e-03, 9.99998886e-01, 0.00000000e+00,\n",
              "        0.00000000e+00],\n",
              "       [1.47225491e-03, 2.54135354e-03, 9.99995687e-01, 0.00000000e+00,\n",
              "        0.00000000e+00],\n",
              "       [1.18076100e-03, 2.03818723e-03, 9.99997226e-01, 0.00000000e+00,\n",
              "        0.00000000e+00],\n",
              "       [6.28551538e-04, 9.94567831e-04, 9.99999308e-01, 0.00000000e+00,\n",
              "        0.00000000e+00],\n",
              "       [6.26551510e-04, 8.81247246e-04, 9.99999415e-01, 0.00000000e+00,\n",
              "        0.00000000e+00],\n",
              "       [8.27906898e-04, 1.42910315e-03, 9.99998636e-01, 0.00000000e+00,\n",
              "        0.00000000e+00],\n",
              "       [6.44178810e-04, 2.53767410e-04, 9.99999760e-01, 0.00000000e+00,\n",
              "        0.00000000e+00],\n",
              "       [6.21740057e-04, 1.20893900e-04, 9.99999799e-01, 0.00000000e+00,\n",
              "        0.00000000e+00],\n",
              "       [6.45363379e-04, 1.84389537e-04, 9.99999775e-01, 0.00000000e+00,\n",
              "        0.00000000e+00],\n",
              "       [4.71361175e-04, 1.71404064e-04, 9.99999874e-01, 0.00000000e+00,\n",
              "        0.00000000e+00],\n",
              "       [4.01697803e-04, 1.87458975e-04, 9.99999902e-01, 0.00000000e+00,\n",
              "        0.00000000e+00],\n",
              "       [7.42569429e-04, 2.78463536e-04, 9.99999686e-01, 0.00000000e+00,\n",
              "        0.00000000e+00],\n",
              "       [6.48734817e-04, 1.99610713e-04, 9.99999770e-01, 0.00000000e+00,\n",
              "        0.00000000e+00],\n",
              "       [5.27036350e-04, 1.24904568e-04, 9.99999853e-01, 0.00000000e+00,\n",
              "        0.00000000e+00],\n",
              "       [7.59314547e-04, 1.39963568e-04, 9.99999702e-01, 0.00000000e+00,\n",
              "        0.00000000e+00],\n",
              "       [7.57723715e-04, 2.99293568e-04, 9.99999668e-01, 0.00000000e+00,\n",
              "        0.00000000e+00],\n",
              "       [5.25119667e-04, 1.52105954e-04, 9.99999851e-01, 0.00000000e+00,\n",
              "        0.00000000e+00],\n",
              "       [7.05498990e-04, 1.85776870e-04, 9.99999734e-01, 0.00000000e+00,\n",
              "        0.00000000e+00],\n",
              "       [6.50690543e-04, 1.19941031e-04, 9.99999781e-01, 0.00000000e+00,\n",
              "        0.00000000e+00],\n",
              "       [5.99069302e-04, 2.05076389e-04, 9.99999800e-01, 0.00000000e+00,\n",
              "        0.00000000e+00],\n",
              "       [6.02950042e-04, 1.42895675e-04, 9.99999808e-01, 0.00000000e+00,\n",
              "        0.00000000e+00],\n",
              "       [5.75920217e-04, 1.21324233e-04, 9.99999827e-01, 0.00000000e+00,\n",
              "        1.51655292e-05],\n",
              "       [7.34324635e-04, 2.32040925e-04, 9.99999703e-01, 1.93367438e-05,\n",
              "        0.00000000e+00],\n",
              "       [7.00011058e-04, 1.65898575e-04, 9.99999741e-01, 1.84331750e-05,\n",
              "        0.00000000e+00],\n",
              "       [7.52558320e-04, 2.37802629e-04, 9.99999689e-01, 0.00000000e+00,\n",
              "        0.00000000e+00],\n",
              "       [5.89518491e-04, 2.32854124e-04, 9.99999799e-01, 0.00000000e+00,\n",
              "        0.00000000e+00],\n",
              "       [6.31201402e-04, 2.32697241e-04, 9.99999774e-01, 0.00000000e+00,\n",
              "        1.66212315e-05],\n",
              "       [5.70821356e-04, 1.50312624e-04, 9.99999826e-01, 0.00000000e+00,\n",
              "        0.00000000e+00],\n",
              "       [6.63005011e-04, 1.39669649e-04, 9.99999770e-01, 0.00000000e+00,\n",
              "        1.74587061e-05],\n",
              "       [5.30333681e-04, 1.67581356e-04, 9.99999845e-01, 0.00000000e+00,\n",
              "        1.39651130e-05],\n",
              "       [6.20293380e-04, 2.45009909e-04, 9.99999777e-01, 0.00000000e+00,\n",
              "        1.63339939e-05],\n",
              "       [5.55652941e-04, 2.04714241e-04, 9.99999825e-01, 0.00000000e+00,\n",
              "        0.00000000e+00],\n",
              "       [4.32927804e-04, 2.63980368e-04, 9.99999871e-01, 1.05592147e-05,\n",
              "        0.00000000e+00],\n",
              "       [4.91658497e-04, 1.89958965e-04, 9.99999861e-01, 0.00000000e+00,\n",
              "        1.11740568e-05],\n",
              "       [4.34736459e-04, 1.80256581e-04, 9.99999889e-01, 1.06033283e-05,\n",
              "        0.00000000e+00],\n",
              "       [6.12632347e-04, 2.57305586e-04, 9.99999779e-01, 0.00000000e+00,\n",
              "        0.00000000e+00],\n",
              "       [5.57492842e-04, 2.25369447e-04, 9.99999819e-01, 0.00000000e+00,\n",
              "        0.00000000e+00],\n",
              "       [5.55182450e-04, 3.22780494e-04, 9.99999794e-01, 1.29112198e-05,\n",
              "        0.00000000e+00],\n",
              "       [6.24154636e-04, 3.25080539e-04, 9.99999752e-01, 0.00000000e+00,\n",
              "        1.30032216e-05],\n",
              "       [5.06619009e-04, 2.42296048e-04, 9.99999842e-01, 1.10134567e-05,\n",
              "        0.00000000e+00],\n",
              "       [5.10079799e-04, 1.85483563e-04, 9.99999853e-01, 0.00000000e+00,\n",
              "        1.15927227e-05],\n",
              "       [5.36179243e-04, 2.68089621e-04, 9.99999820e-01, 1.27661724e-05,\n",
              "        0.00000000e+00],\n",
              "       [5.18372698e-04, 2.23842756e-04, 9.99999841e-01, 0.00000000e+00,\n",
              "        0.00000000e+00],\n",
              "       [6.40288377e-04, 2.09073756e-04, 9.99999773e-01, 0.00000000e+00,\n",
              "        1.30671097e-05],\n",
              "       [5.26794608e-04, 2.15506885e-04, 9.99999838e-01, 0.00000000e+00,\n",
              "        1.19726047e-05],\n",
              "       [5.48970301e-04, 2.46476462e-04, 9.99999819e-01, 0.00000000e+00,\n",
              "        0.00000000e+00],\n",
              "       [5.83314438e-04, 2.25371488e-04, 9.99999804e-01, 1.32571463e-05,\n",
              "        0.00000000e+00],\n",
              "       [5.22477334e-04, 1.74159111e-04, 9.99999848e-01, 0.00000000e+00,\n",
              "        0.00000000e+00],\n",
              "       [6.12713003e-04, 2.99838278e-04, 9.99999767e-01, 0.00000000e+00,\n",
              "        1.30364469e-05],\n",
              "       [5.25088654e-04, 2.31039008e-04, 9.99999835e-01, 0.00000000e+00,\n",
              "        1.05017731e-05],\n",
              "       [4.62544818e-04, 2.09246465e-04, 9.99999871e-01, 0.00000000e+00,\n",
              "        0.00000000e+00],\n",
              "       [5.56347479e-04, 2.20220877e-04, 9.99999821e-01, 1.15905725e-05,\n",
              "        0.00000000e+00],\n",
              "       [5.94853092e-04, 3.10358135e-04, 9.99999775e-01, 0.00000000e+00,\n",
              "        1.29315890e-05],\n",
              "       [4.92460584e-04, 2.69680796e-04, 9.99999842e-01, 0.00000000e+00,\n",
              "        0.00000000e+00],\n",
              "       [4.94886101e-04, 2.41944316e-04, 9.99999848e-01, 0.00000000e+00,\n",
              "        0.00000000e+00],\n",
              "       [5.40339650e-04, 1.91370293e-04, 9.99999836e-01, 0.00000000e+00,\n",
              "        1.12570760e-05],\n",
              "       [4.27492963e-04, 2.39813125e-04, 9.99999880e-01, 0.00000000e+00,\n",
              "        0.00000000e+00],\n",
              "       [5.30503893e-04, 2.05705591e-04, 9.99999838e-01, 0.00000000e+00,\n",
              "        0.00000000e+00],\n",
              "       [4.36848669e-04, 2.34406603e-04, 9.99999877e-01, 0.00000000e+00,\n",
              "        0.00000000e+00],\n",
              "       [4.92172041e-04, 2.81241166e-04, 9.99999839e-01, 0.00000000e+00,\n",
              "        0.00000000e+00],\n",
              "       [5.13154185e-04, 2.75351026e-04, 9.99999830e-01, 1.25159557e-05,\n",
              "        0.00000000e+00],\n",
              "       [5.31236628e-04, 2.47910426e-04, 9.99999828e-01, 1.18052584e-05,\n",
              "        0.00000000e+00],\n",
              "       [4.86529845e-04, 1.81034361e-04, 9.99999865e-01, 0.00000000e+00,\n",
              "        1.13146476e-05],\n",
              "       [4.93530390e-04, 1.93120587e-04, 9.99999860e-01, 1.07289215e-05,\n",
              "        0.00000000e+00],\n",
              "       [5.12010379e-04, 2.17876757e-04, 9.99999845e-01, 0.00000000e+00,\n",
              "        0.00000000e+00],\n",
              "       [4.66650017e-04, 1.76290006e-04, 9.99999876e-01, 1.03700004e-05,\n",
              "        0.00000000e+00],\n",
              "       [5.04201606e-04, 2.04081602e-04, 9.99999852e-01, 0.00000000e+00,\n",
              "        0.00000000e+00],\n",
              "       [4.64242695e-04, 2.21570377e-04, 9.99999868e-01, 0.00000000e+00,\n",
              "        0.00000000e+00],\n",
              "       [5.46892943e-04, 2.30910354e-04, 9.99999824e-01, 1.21531765e-05,\n",
              "        0.00000000e+00],\n",
              "       [4.53346464e-04, 2.16369903e-04, 9.99999874e-01, 1.03033287e-05,\n",
              "        0.00000000e+00],\n",
              "       [5.36199056e-04, 2.28169811e-04, 9.99999830e-01, 0.00000000e+00,\n",
              "        1.14084905e-05],\n",
              "       [4.89568776e-04, 2.11404699e-04, 9.99999858e-01, 0.00000000e+00,\n",
              "        0.00000000e+00],\n",
              "       [4.48156395e-04, 1.83336707e-04, 9.99999883e-01, 1.01853726e-05,\n",
              "        0.00000000e+00],\n",
              "       [4.87022561e-04, 2.01936184e-04, 9.99999861e-01, 0.00000000e+00,\n",
              "        0.00000000e+00],\n",
              "       [6.03705110e-04, 2.64120986e-04, 9.99999783e-01, 1.25771898e-05,\n",
              "        0.00000000e+00],\n",
              "       [4.89845832e-04, 2.24512673e-04, 9.99999855e-01, 1.02051215e-05,\n",
              "        0.00000000e+00],\n",
              "       [5.94357271e-04, 2.78209786e-04, 9.99999785e-01, 0.00000000e+00,\n",
              "        0.00000000e+00],\n",
              "       [5.66593066e-04, 2.46344811e-04, 9.99999809e-01, 0.00000000e+00,\n",
              "        0.00000000e+00],\n",
              "       [5.24765262e-04, 2.14676698e-04, 9.99999839e-01, 0.00000000e+00,\n",
              "        1.19264832e-05],\n",
              "       [5.27153952e-04, 2.46752914e-04, 9.99999831e-01, 0.00000000e+00,\n",
              "        1.12160415e-05],\n",
              "       [4.80113413e-04, 2.29145038e-04, 9.99999858e-01, 1.09116685e-05,\n",
              "        0.00000000e+00]])"
            ]
          },
          "execution_count": 41,
          "metadata": {},
          "output_type": "execute_result"
        }
      ],
      "source": [
        "x_nor=Normalizer()\n",
        "x_fs_nor=x_nor.fit_transform(dataset_1)\n",
        "x_fs_nor"
      ]
    },
    {
      "cell_type": "code",
      "execution_count": null,
      "id": "cc3e81ac",
      "metadata": {
        "id": "cc3e81ac"
      },
      "outputs": [],
      "source": []
    },
    {
      "cell_type": "code",
      "execution_count": null,
      "id": "29a197c5",
      "metadata": {
        "id": "29a197c5"
      },
      "outputs": [],
      "source": []
    },
    {
      "cell_type": "code",
      "execution_count": null,
      "id": "2e532981",
      "metadata": {
        "id": "2e532981"
      },
      "outputs": [],
      "source": []
    },
    {
      "cell_type": "code",
      "execution_count": null,
      "id": "1102b287",
      "metadata": {
        "id": "1102b287"
      },
      "outputs": [],
      "source": []
    },
    {
      "cell_type": "code",
      "execution_count": null,
      "id": "73d54dc4",
      "metadata": {
        "id": "73d54dc4"
      },
      "outputs": [],
      "source": []
    },
    {
      "cell_type": "code",
      "execution_count": null,
      "id": "6b6d2506",
      "metadata": {
        "id": "6b6d2506"
      },
      "outputs": [],
      "source": []
    },
    {
      "cell_type": "code",
      "execution_count": null,
      "id": "e208af34",
      "metadata": {
        "id": "e208af34"
      },
      "outputs": [],
      "source": []
    },
    {
      "cell_type": "code",
      "execution_count": null,
      "id": "cd5403c7",
      "metadata": {
        "id": "cd5403c7"
      },
      "outputs": [],
      "source": []
    }
  ],
  "metadata": {
    "kernelspec": {
      "display_name": "Python 3 (ipykernel)",
      "language": "python",
      "name": "python3"
    },
    "language_info": {
      "codemirror_mode": {
        "name": "ipython",
        "version": 3
      },
      "file_extension": ".py",
      "mimetype": "text/x-python",
      "name": "python",
      "nbconvert_exporter": "python",
      "pygments_lexer": "ipython3",
      "version": "3.9.12"
    },
    "colab": {
      "provenance": [],
      "include_colab_link": true
    }
  },
  "nbformat": 4,
  "nbformat_minor": 5
}